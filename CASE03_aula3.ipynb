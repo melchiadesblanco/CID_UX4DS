{
  "nbformat": 4,
  "nbformat_minor": 5,
  "metadata": {
    "kernelspec": {
      "display_name": "Python 3 (ipykernel)",
      "language": "python",
      "name": "python3"
    },
    "language_info": {
      "codemirror_mode": {
        "name": "ipython",
        "version": 3
      },
      "file_extension": ".py",
      "mimetype": "text/x-python",
      "name": "python",
      "nbconvert_exporter": "python",
      "pygments_lexer": "ipython3",
      "version": "3.8.11"
    },
    "colab": {
      "name": "CASE03.ipynb",
      "provenance": [],
      "collapsed_sections": [],
      "include_colab_link": true
    }
  },
  "cells": [
    {
      "cell_type": "markdown",
      "metadata": {
        "id": "view-in-github",
        "colab_type": "text"
      },
      "source": [
        "<a href=\"https://colab.research.google.com/github/melchiadesblanco/CID_UX4DS/blob/main/CASE03_aula3.ipynb\" target=\"_parent\"><img src=\"https://colab.research.google.com/assets/colab-badge.svg\" alt=\"Open In Colab\"/></a>"
      ]
    },
    {
      "cell_type": "markdown",
      "metadata": {
        "id": "9b016ea6"
      },
      "source": [
        "# Introdução\n",
        "Case 3 - Avaliação Modelo NBO\n",
        "\n",
        "#### O objetivo deste trabalho é: \n",
        "\n",
        "Contar uma história que mostre se a recomendação do carrossel faz ou não sentido com base no histórico de compra do cliente.\n",
        "\n",
        "A idéia é aplicar princípios de validação da metodologia CRISP.\n",
        "\n",
        "Se você fosse um coordenador de DS, você deixaria este modelo ser implementado em produção?\n",
        "\n",
        "NBO -> \"Next Best Offer\"\n",
        "No dataset atual, é feito uma sugestão de 5 produtos e também traz o score de cada sugestão que é a probabilidade do consumidor comprar aquele produto.\n",
        "\n",
        "#### Resumo Aula\n",
        "\n",
        "- Aula 1: Criação dos grupos e introdução aos temas\n",
        "- Aula 2: Fazer as análises exploratórias básicas\n",
        "- Aula 3: EDA - Exploratory Data Analysis - Hipóteses\n",
        "\n",
        "# Anotações do Professor\n",
        "- 12M faz sentido olhando para 6M?\n",
        "- Valores errados? Nulos? Zero?\n",
        "- Outliers\n",
        "- Distribuição dos produtos vendidos faz sentido?\n",
        "- Novos casos de validação (check de sanidade)\n",
        "- Não esquecer o story telling\n",
        "- Verificar se os padrões são os mesmos (realizado, recomendado)\n",
        "\n",
        "# Comentários Melchiades\n",
        "1. As recomendações do carrosel utilizam um range de sugestões para cada NBO, o que pode tornar alguns NBO mal utilizados.\n",
        "\n",
        "- NBO 1 -> Produto 1  ao 20\n",
        "- NBO 2 -> Produto 21 ao 33\n",
        "- NBO 3 -> Produto 34 ao 50\n",
        "- NBO 4 -> Produto 51 ao 66\n",
        "- NBO 5 -> Produto 67 ao 80\n",
        "\n",
        "2. Foi observado que existe uma grande quantidade de recomendações unicas de NBOs, ou seja, que não são recomendadas para outros consumidores com os mesmos valores de NBO 1-5.\n",
        "Isto pode significar que o modelo pode estar com overfiting?\n",
        "\n",
        "#Comentários Homero\n",
        "1. A distribuição das vendas não é muito desigual, o produto mais vendido não chega a ter o dobro da quantidade do menos vendido, por exemplo, o modelo deve ter usado realmente critérios mais complexos para criar as cestas de recomendações ou é totalmente randômico.\n",
        "2. O fato de termos recomendações únicas pode ser apenas uma questão de probabilidade, mas provavelmente indica também que o modelo não é um modelo tão simples, não necessariamente com overfitting (minha opinião).\n",
        "3. Como comentou o Melchiades o carrosel utilizar um range de produtos não parece uma boa ideia, mas provavelmente simplifica o modelo, ou pode ter outro objetivo ainda não encontrado se os produtos estiverem em algum tipo de departamento (para gerar um possível equilibrio talvez?)\n",
        "4. A distribuição de vendas média parecia perfeitamente normal nos 12 meses e agora nos 6 meses a concentração e desvio padrão são menores e mais baixos, sendo, o que está ocorrendo? As vendas nos 6 meses são menores (são o ínicio ou fim do período?).\n",
        "\n",
        "# Comentários Fabio\n",
        "1. Qual o Top 10 + Vendidos vs. Top 10 + Recomendados\n",
        "2. Qtos Consumidores compraram 6 meses ? Qtos compraram 12? Qto compraram nos dois períodos?\n",
        "3. Dos clientes que compraram nos dois períodos, quais os itens mais vendidos?\n",
        "\n",
        "\n"
      ],
      "id": "9b016ea6"
    },
    {
      "cell_type": "markdown",
      "metadata": {
        "id": "edafbe84"
      },
      "source": [
        "## Limpeza do Dataset"
      ],
      "id": "edafbe84"
    },
    {
      "cell_type": "code",
      "metadata": {
        "id": "02e25c31"
      },
      "source": [
        "import numpy as np\n",
        "import pandas as pd\n",
        "pd.set_option('display.float_format', lambda x: '%.3f' % x)\n",
        "\n",
        "%matplotlib inline"
      ],
      "id": "02e25c31",
      "execution_count": null,
      "outputs": []
    },
    {
      "cell_type": "code",
      "metadata": {
        "id": "68649ea1"
      },
      "source": [
        "#Rodar no Jupyter Local\n",
        "# df_hist = pd.read_csv('./data/CASE_03_Compras_Hist.csv', sep=';')\n",
        "# df_carrossel = pd.read_csv('./data/CASE_03_NBO_Result.csv', sep=';')\n",
        "\n",
        "#Rodar no Google Colab\n",
        "df_hist = pd.read_csv('/content/CASE_03_Compras_Hist.csv', sep=';')\n",
        "df_carrossel = pd.read_csv('/content/CASE_03_NBO_Result.csv', sep=';')"
      ],
      "id": "68649ea1",
      "execution_count": null,
      "outputs": []
    },
    {
      "cell_type": "code",
      "metadata": {
        "colab": {
          "base_uri": "https://localhost:8080/"
        },
        "id": "dcbea23c",
        "outputId": "1cae3416-3c11-4d71-c3e2-a02291361c09"
      },
      "source": [
        "df_hist.dtypes"
      ],
      "id": "dcbea23c",
      "execution_count": null,
      "outputs": [
        {
          "output_type": "execute_result",
          "data": {
            "text/plain": [
              "Consumidor            int64\n",
              "Produto               int64\n",
              "Quantidade Acc 12M    int64\n",
              "Quantidade Acc 6M     int64\n",
              "dtype: object"
            ]
          },
          "metadata": {},
          "execution_count": 3
        }
      ]
    },
    {
      "cell_type": "code",
      "metadata": {
        "id": "21a63dd4"
      },
      "source": [
        "df_carrossel['Score NBO 1'] = df_carrossel['Score NBO 1'].str.replace(',', '.').astype(float)\n",
        "df_carrossel['Score NBO 2'] = df_carrossel['Score NBO 2'].str.replace(',', '.').astype(float)\n",
        "df_carrossel['Score NBO 3'] = df_carrossel['Score NBO 3'].str.replace(',', '.').astype(float)\n",
        "df_carrossel['Score NBO 4'] = df_carrossel['Score NBO 4'].str.replace(',', '.').astype(float)\n",
        "df_carrossel['Score NBO 5'] = df_carrossel['Score NBO 5'].str.replace(',', '.').astype(float)"
      ],
      "id": "21a63dd4",
      "execution_count": null,
      "outputs": []
    },
    {
      "cell_type": "code",
      "metadata": {
        "colab": {
          "base_uri": "https://localhost:8080/"
        },
        "id": "c8a3185f",
        "outputId": "d6fe009c-0aac-42db-cf8d-bdefedfb979c"
      },
      "source": [
        "df_carrossel.dtypes"
      ],
      "id": "c8a3185f",
      "execution_count": null,
      "outputs": [
        {
          "output_type": "execute_result",
          "data": {
            "text/plain": [
              "Consumidor      int64\n",
              "NBO 1           int64\n",
              "NBO 2           int64\n",
              "NBO 3           int64\n",
              "NBO 4           int64\n",
              "NBO 5           int64\n",
              "Score NBO 1    object\n",
              "Score NBO 2    object\n",
              "Score NBO 3    object\n",
              "Score NBO 4    object\n",
              "Score NBO 5    object\n",
              "dtype: object"
            ]
          },
          "metadata": {},
          "execution_count": 4
        }
      ]
    },
    {
      "cell_type": "code",
      "metadata": {
        "colab": {
          "base_uri": "https://localhost:8080/",
          "height": 1000
        },
        "id": "M-o3_7llAOdp",
        "outputId": "90cdec22-98d1-422c-e459-f718bf21fe76"
      },
      "source": [
        "#TODO: Linhas [Consumidor,Produto] duplicadas?\n",
        "\n",
        "#Somar ou pegar uma linha???\n",
        "#==> Como não temos evidencias do que significa cada ocorrencia de duplicação, optamos por somar\n",
        "# E se somar e 6M for maior que 12M???\n",
        "# Se não somar, esta impactando no indicador de produtos mais vendidos...\n",
        "# Se optar por deixar só a primeira ocorrencia?\n",
        "# Se somar pode impactar no TOP 5 produtos mais vendidos\n",
        "\n",
        "df_hist[df_hist['Consumidor']==156].sort_values(by=['Produto'])"
      ],
      "id": "M-o3_7llAOdp",
      "execution_count": 28,
      "outputs": [
        {
          "output_type": "execute_result",
          "data": {
            "text/html": [
              "<div>\n",
              "<style scoped>\n",
              "    .dataframe tbody tr th:only-of-type {\n",
              "        vertical-align: middle;\n",
              "    }\n",
              "\n",
              "    .dataframe tbody tr th {\n",
              "        vertical-align: top;\n",
              "    }\n",
              "\n",
              "    .dataframe thead th {\n",
              "        text-align: right;\n",
              "    }\n",
              "</style>\n",
              "<table border=\"1\" class=\"dataframe\">\n",
              "  <thead>\n",
              "    <tr style=\"text-align: right;\">\n",
              "      <th></th>\n",
              "      <th>Consumidor</th>\n",
              "      <th>Produto</th>\n",
              "      <th>Quantidade Acc 12M</th>\n",
              "      <th>Quantidade Acc 6M</th>\n",
              "    </tr>\n",
              "  </thead>\n",
              "  <tbody>\n",
              "    <tr>\n",
              "      <th>8709</th>\n",
              "      <td>156</td>\n",
              "      <td>2</td>\n",
              "      <td>4</td>\n",
              "      <td>0</td>\n",
              "    </tr>\n",
              "    <tr>\n",
              "      <th>8733</th>\n",
              "      <td>156</td>\n",
              "      <td>5</td>\n",
              "      <td>1</td>\n",
              "      <td>0</td>\n",
              "    </tr>\n",
              "    <tr>\n",
              "      <th>8703</th>\n",
              "      <td>156</td>\n",
              "      <td>6</td>\n",
              "      <td>5</td>\n",
              "      <td>4</td>\n",
              "    </tr>\n",
              "    <tr>\n",
              "      <th>8728</th>\n",
              "      <td>156</td>\n",
              "      <td>7</td>\n",
              "      <td>3</td>\n",
              "      <td>0</td>\n",
              "    </tr>\n",
              "    <tr>\n",
              "      <th>8708</th>\n",
              "      <td>156</td>\n",
              "      <td>7</td>\n",
              "      <td>0</td>\n",
              "      <td>0</td>\n",
              "    </tr>\n",
              "    <tr>\n",
              "      <th>8700</th>\n",
              "      <td>156</td>\n",
              "      <td>7</td>\n",
              "      <td>4</td>\n",
              "      <td>1</td>\n",
              "    </tr>\n",
              "    <tr>\n",
              "      <th>8710</th>\n",
              "      <td>156</td>\n",
              "      <td>16</td>\n",
              "      <td>2</td>\n",
              "      <td>1</td>\n",
              "    </tr>\n",
              "    <tr>\n",
              "      <th>8732</th>\n",
              "      <td>156</td>\n",
              "      <td>19</td>\n",
              "      <td>3</td>\n",
              "      <td>2</td>\n",
              "    </tr>\n",
              "    <tr>\n",
              "      <th>8729</th>\n",
              "      <td>156</td>\n",
              "      <td>19</td>\n",
              "      <td>1</td>\n",
              "      <td>0</td>\n",
              "    </tr>\n",
              "    <tr>\n",
              "      <th>8722</th>\n",
              "      <td>156</td>\n",
              "      <td>19</td>\n",
              "      <td>3</td>\n",
              "      <td>0</td>\n",
              "    </tr>\n",
              "    <tr>\n",
              "      <th>8735</th>\n",
              "      <td>156</td>\n",
              "      <td>21</td>\n",
              "      <td>4</td>\n",
              "      <td>2</td>\n",
              "    </tr>\n",
              "    <tr>\n",
              "      <th>8699</th>\n",
              "      <td>156</td>\n",
              "      <td>22</td>\n",
              "      <td>4</td>\n",
              "      <td>2</td>\n",
              "    </tr>\n",
              "    <tr>\n",
              "      <th>8725</th>\n",
              "      <td>156</td>\n",
              "      <td>23</td>\n",
              "      <td>4</td>\n",
              "      <td>0</td>\n",
              "    </tr>\n",
              "    <tr>\n",
              "      <th>8693</th>\n",
              "      <td>156</td>\n",
              "      <td>26</td>\n",
              "      <td>2</td>\n",
              "      <td>0</td>\n",
              "    </tr>\n",
              "    <tr>\n",
              "      <th>8723</th>\n",
              "      <td>156</td>\n",
              "      <td>26</td>\n",
              "      <td>4</td>\n",
              "      <td>1</td>\n",
              "    </tr>\n",
              "    <tr>\n",
              "      <th>8686</th>\n",
              "      <td>156</td>\n",
              "      <td>28</td>\n",
              "      <td>4</td>\n",
              "      <td>3</td>\n",
              "    </tr>\n",
              "    <tr>\n",
              "      <th>8734</th>\n",
              "      <td>156</td>\n",
              "      <td>28</td>\n",
              "      <td>5</td>\n",
              "      <td>0</td>\n",
              "    </tr>\n",
              "    <tr>\n",
              "      <th>8695</th>\n",
              "      <td>156</td>\n",
              "      <td>28</td>\n",
              "      <td>4</td>\n",
              "      <td>0</td>\n",
              "    </tr>\n",
              "    <tr>\n",
              "      <th>8719</th>\n",
              "      <td>156</td>\n",
              "      <td>29</td>\n",
              "      <td>3</td>\n",
              "      <td>0</td>\n",
              "    </tr>\n",
              "    <tr>\n",
              "      <th>8680</th>\n",
              "      <td>156</td>\n",
              "      <td>32</td>\n",
              "      <td>3</td>\n",
              "      <td>0</td>\n",
              "    </tr>\n",
              "    <tr>\n",
              "      <th>8685</th>\n",
              "      <td>156</td>\n",
              "      <td>33</td>\n",
              "      <td>4</td>\n",
              "      <td>0</td>\n",
              "    </tr>\n",
              "    <tr>\n",
              "      <th>8689</th>\n",
              "      <td>156</td>\n",
              "      <td>35</td>\n",
              "      <td>2</td>\n",
              "      <td>0</td>\n",
              "    </tr>\n",
              "    <tr>\n",
              "      <th>8701</th>\n",
              "      <td>156</td>\n",
              "      <td>35</td>\n",
              "      <td>0</td>\n",
              "      <td>0</td>\n",
              "    </tr>\n",
              "    <tr>\n",
              "      <th>8721</th>\n",
              "      <td>156</td>\n",
              "      <td>35</td>\n",
              "      <td>2</td>\n",
              "      <td>2</td>\n",
              "    </tr>\n",
              "    <tr>\n",
              "      <th>8726</th>\n",
              "      <td>156</td>\n",
              "      <td>35</td>\n",
              "      <td>1</td>\n",
              "      <td>0</td>\n",
              "    </tr>\n",
              "    <tr>\n",
              "      <th>8698</th>\n",
              "      <td>156</td>\n",
              "      <td>38</td>\n",
              "      <td>5</td>\n",
              "      <td>0</td>\n",
              "    </tr>\n",
              "    <tr>\n",
              "      <th>8691</th>\n",
              "      <td>156</td>\n",
              "      <td>38</td>\n",
              "      <td>2</td>\n",
              "      <td>0</td>\n",
              "    </tr>\n",
              "    <tr>\n",
              "      <th>8727</th>\n",
              "      <td>156</td>\n",
              "      <td>40</td>\n",
              "      <td>0</td>\n",
              "      <td>0</td>\n",
              "    </tr>\n",
              "    <tr>\n",
              "      <th>8684</th>\n",
              "      <td>156</td>\n",
              "      <td>41</td>\n",
              "      <td>3</td>\n",
              "      <td>2</td>\n",
              "    </tr>\n",
              "    <tr>\n",
              "      <th>8704</th>\n",
              "      <td>156</td>\n",
              "      <td>49</td>\n",
              "      <td>3</td>\n",
              "      <td>1</td>\n",
              "    </tr>\n",
              "    <tr>\n",
              "      <th>8696</th>\n",
              "      <td>156</td>\n",
              "      <td>49</td>\n",
              "      <td>3</td>\n",
              "      <td>0</td>\n",
              "    </tr>\n",
              "    <tr>\n",
              "      <th>8724</th>\n",
              "      <td>156</td>\n",
              "      <td>50</td>\n",
              "      <td>5</td>\n",
              "      <td>0</td>\n",
              "    </tr>\n",
              "    <tr>\n",
              "      <th>8688</th>\n",
              "      <td>156</td>\n",
              "      <td>51</td>\n",
              "      <td>5</td>\n",
              "      <td>0</td>\n",
              "    </tr>\n",
              "    <tr>\n",
              "      <th>8707</th>\n",
              "      <td>156</td>\n",
              "      <td>52</td>\n",
              "      <td>4</td>\n",
              "      <td>0</td>\n",
              "    </tr>\n",
              "    <tr>\n",
              "      <th>8718</th>\n",
              "      <td>156</td>\n",
              "      <td>53</td>\n",
              "      <td>4</td>\n",
              "      <td>1</td>\n",
              "    </tr>\n",
              "    <tr>\n",
              "      <th>8713</th>\n",
              "      <td>156</td>\n",
              "      <td>56</td>\n",
              "      <td>1</td>\n",
              "      <td>0</td>\n",
              "    </tr>\n",
              "    <tr>\n",
              "      <th>8706</th>\n",
              "      <td>156</td>\n",
              "      <td>56</td>\n",
              "      <td>5</td>\n",
              "      <td>5</td>\n",
              "    </tr>\n",
              "    <tr>\n",
              "      <th>8730</th>\n",
              "      <td>156</td>\n",
              "      <td>59</td>\n",
              "      <td>4</td>\n",
              "      <td>0</td>\n",
              "    </tr>\n",
              "    <tr>\n",
              "      <th>8731</th>\n",
              "      <td>156</td>\n",
              "      <td>59</td>\n",
              "      <td>4</td>\n",
              "      <td>0</td>\n",
              "    </tr>\n",
              "    <tr>\n",
              "      <th>8712</th>\n",
              "      <td>156</td>\n",
              "      <td>60</td>\n",
              "      <td>5</td>\n",
              "      <td>0</td>\n",
              "    </tr>\n",
              "    <tr>\n",
              "      <th>8717</th>\n",
              "      <td>156</td>\n",
              "      <td>62</td>\n",
              "      <td>4</td>\n",
              "      <td>0</td>\n",
              "    </tr>\n",
              "    <tr>\n",
              "      <th>8690</th>\n",
              "      <td>156</td>\n",
              "      <td>62</td>\n",
              "      <td>3</td>\n",
              "      <td>0</td>\n",
              "    </tr>\n",
              "    <tr>\n",
              "      <th>8705</th>\n",
              "      <td>156</td>\n",
              "      <td>63</td>\n",
              "      <td>4</td>\n",
              "      <td>0</td>\n",
              "    </tr>\n",
              "    <tr>\n",
              "      <th>8683</th>\n",
              "      <td>156</td>\n",
              "      <td>65</td>\n",
              "      <td>3</td>\n",
              "      <td>0</td>\n",
              "    </tr>\n",
              "    <tr>\n",
              "      <th>8694</th>\n",
              "      <td>156</td>\n",
              "      <td>66</td>\n",
              "      <td>3</td>\n",
              "      <td>0</td>\n",
              "    </tr>\n",
              "    <tr>\n",
              "      <th>8692</th>\n",
              "      <td>156</td>\n",
              "      <td>68</td>\n",
              "      <td>2</td>\n",
              "      <td>0</td>\n",
              "    </tr>\n",
              "    <tr>\n",
              "      <th>8687</th>\n",
              "      <td>156</td>\n",
              "      <td>70</td>\n",
              "      <td>4</td>\n",
              "      <td>3</td>\n",
              "    </tr>\n",
              "    <tr>\n",
              "      <th>8682</th>\n",
              "      <td>156</td>\n",
              "      <td>70</td>\n",
              "      <td>4</td>\n",
              "      <td>0</td>\n",
              "    </tr>\n",
              "    <tr>\n",
              "      <th>8715</th>\n",
              "      <td>156</td>\n",
              "      <td>72</td>\n",
              "      <td>3</td>\n",
              "      <td>0</td>\n",
              "    </tr>\n",
              "    <tr>\n",
              "      <th>8714</th>\n",
              "      <td>156</td>\n",
              "      <td>74</td>\n",
              "      <td>0</td>\n",
              "      <td>0</td>\n",
              "    </tr>\n",
              "    <tr>\n",
              "      <th>8681</th>\n",
              "      <td>156</td>\n",
              "      <td>76</td>\n",
              "      <td>4</td>\n",
              "      <td>0</td>\n",
              "    </tr>\n",
              "    <tr>\n",
              "      <th>8697</th>\n",
              "      <td>156</td>\n",
              "      <td>76</td>\n",
              "      <td>2</td>\n",
              "      <td>0</td>\n",
              "    </tr>\n",
              "    <tr>\n",
              "      <th>8711</th>\n",
              "      <td>156</td>\n",
              "      <td>78</td>\n",
              "      <td>1</td>\n",
              "      <td>1</td>\n",
              "    </tr>\n",
              "    <tr>\n",
              "      <th>8702</th>\n",
              "      <td>156</td>\n",
              "      <td>78</td>\n",
              "      <td>5</td>\n",
              "      <td>0</td>\n",
              "    </tr>\n",
              "    <tr>\n",
              "      <th>8716</th>\n",
              "      <td>156</td>\n",
              "      <td>79</td>\n",
              "      <td>5</td>\n",
              "      <td>0</td>\n",
              "    </tr>\n",
              "    <tr>\n",
              "      <th>8720</th>\n",
              "      <td>156</td>\n",
              "      <td>80</td>\n",
              "      <td>5</td>\n",
              "      <td>0</td>\n",
              "    </tr>\n",
              "  </tbody>\n",
              "</table>\n",
              "</div>"
            ],
            "text/plain": [
              "      Consumidor  Produto  Quantidade Acc 12M  Quantidade Acc 6M\n",
              "8709         156        2                   4                  0\n",
              "8733         156        5                   1                  0\n",
              "8703         156        6                   5                  4\n",
              "8728         156        7                   3                  0\n",
              "8708         156        7                   0                  0\n",
              "8700         156        7                   4                  1\n",
              "8710         156       16                   2                  1\n",
              "8732         156       19                   3                  2\n",
              "8729         156       19                   1                  0\n",
              "8722         156       19                   3                  0\n",
              "8735         156       21                   4                  2\n",
              "8699         156       22                   4                  2\n",
              "8725         156       23                   4                  0\n",
              "8693         156       26                   2                  0\n",
              "8723         156       26                   4                  1\n",
              "8686         156       28                   4                  3\n",
              "8734         156       28                   5                  0\n",
              "8695         156       28                   4                  0\n",
              "8719         156       29                   3                  0\n",
              "8680         156       32                   3                  0\n",
              "8685         156       33                   4                  0\n",
              "8689         156       35                   2                  0\n",
              "8701         156       35                   0                  0\n",
              "8721         156       35                   2                  2\n",
              "8726         156       35                   1                  0\n",
              "8698         156       38                   5                  0\n",
              "8691         156       38                   2                  0\n",
              "8727         156       40                   0                  0\n",
              "8684         156       41                   3                  2\n",
              "8704         156       49                   3                  1\n",
              "8696         156       49                   3                  0\n",
              "8724         156       50                   5                  0\n",
              "8688         156       51                   5                  0\n",
              "8707         156       52                   4                  0\n",
              "8718         156       53                   4                  1\n",
              "8713         156       56                   1                  0\n",
              "8706         156       56                   5                  5\n",
              "8730         156       59                   4                  0\n",
              "8731         156       59                   4                  0\n",
              "8712         156       60                   5                  0\n",
              "8717         156       62                   4                  0\n",
              "8690         156       62                   3                  0\n",
              "8705         156       63                   4                  0\n",
              "8683         156       65                   3                  0\n",
              "8694         156       66                   3                  0\n",
              "8692         156       68                   2                  0\n",
              "8687         156       70                   4                  3\n",
              "8682         156       70                   4                  0\n",
              "8715         156       72                   3                  0\n",
              "8714         156       74                   0                  0\n",
              "8681         156       76                   4                  0\n",
              "8697         156       76                   2                  0\n",
              "8711         156       78                   1                  1\n",
              "8702         156       78                   5                  0\n",
              "8716         156       79                   5                  0\n",
              "8720         156       80                   5                  0"
            ]
          },
          "metadata": {},
          "execution_count": 28
        }
      ]
    },
    {
      "cell_type": "code",
      "metadata": {
        "id": "djjJAk_mE9CK"
      },
      "source": [
        "#TODO: "
      ],
      "id": "djjJAk_mE9CK",
      "execution_count": null,
      "outputs": []
    },
    {
      "cell_type": "code",
      "metadata": {
        "colab": {
          "base_uri": "https://localhost:8080/",
          "height": 48
        },
        "id": "f03e98d1",
        "outputId": "79638cd7-0b47-4f64-a4c1-8773d61542dc"
      },
      "source": [
        "#Valores Nulos\n",
        "df_hist[df_hist.isna().any(axis=1)]"
      ],
      "id": "f03e98d1",
      "execution_count": null,
      "outputs": [
        {
          "output_type": "execute_result",
          "data": {
            "text/html": [
              "<div>\n",
              "<style scoped>\n",
              "    .dataframe tbody tr th:only-of-type {\n",
              "        vertical-align: middle;\n",
              "    }\n",
              "\n",
              "    .dataframe tbody tr th {\n",
              "        vertical-align: top;\n",
              "    }\n",
              "\n",
              "    .dataframe thead th {\n",
              "        text-align: right;\n",
              "    }\n",
              "</style>\n",
              "<table border=\"1\" class=\"dataframe\">\n",
              "  <thead>\n",
              "    <tr style=\"text-align: right;\">\n",
              "      <th></th>\n",
              "      <th>Consumidor</th>\n",
              "      <th>Produto</th>\n",
              "      <th>Quantidade Acc 12M</th>\n",
              "      <th>Quantidade Acc 6M</th>\n",
              "    </tr>\n",
              "  </thead>\n",
              "  <tbody>\n",
              "  </tbody>\n",
              "</table>\n",
              "</div>"
            ],
            "text/plain": [
              "Empty DataFrame\n",
              "Columns: [Consumidor, Produto, Quantidade Acc 12M, Quantidade Acc 6M]\n",
              "Index: []"
            ]
          },
          "metadata": {},
          "execution_count": 6
        }
      ]
    },
    {
      "cell_type": "code",
      "metadata": {
        "colab": {
          "base_uri": "https://localhost:8080/",
          "height": 48
        },
        "id": "e9d6f212",
        "outputId": "148805a3-015c-4238-b837-99ecc71b8b0e"
      },
      "source": [
        "df_carrossel[df_carrossel.isna().any(axis=1)]"
      ],
      "id": "e9d6f212",
      "execution_count": null,
      "outputs": [
        {
          "output_type": "execute_result",
          "data": {
            "text/html": [
              "<div>\n",
              "<style scoped>\n",
              "    .dataframe tbody tr th:only-of-type {\n",
              "        vertical-align: middle;\n",
              "    }\n",
              "\n",
              "    .dataframe tbody tr th {\n",
              "        vertical-align: top;\n",
              "    }\n",
              "\n",
              "    .dataframe thead th {\n",
              "        text-align: right;\n",
              "    }\n",
              "</style>\n",
              "<table border=\"1\" class=\"dataframe\">\n",
              "  <thead>\n",
              "    <tr style=\"text-align: right;\">\n",
              "      <th></th>\n",
              "      <th>Consumidor</th>\n",
              "      <th>NBO 1</th>\n",
              "      <th>NBO 2</th>\n",
              "      <th>NBO 3</th>\n",
              "      <th>NBO 4</th>\n",
              "      <th>NBO 5</th>\n",
              "      <th>Score NBO 1</th>\n",
              "      <th>Score NBO 2</th>\n",
              "      <th>Score NBO 3</th>\n",
              "      <th>Score NBO 4</th>\n",
              "      <th>Score NBO 5</th>\n",
              "    </tr>\n",
              "  </thead>\n",
              "  <tbody>\n",
              "  </tbody>\n",
              "</table>\n",
              "</div>"
            ],
            "text/plain": [
              "Empty DataFrame\n",
              "Columns: [Consumidor, NBO 1, NBO 2, NBO 3, NBO 4, NBO 5, Score NBO 1, Score NBO 2, Score NBO 3, Score NBO 4, Score NBO 5]\n",
              "Index: []"
            ]
          },
          "metadata": {},
          "execution_count": 7
        }
      ]
    },
    {
      "cell_type": "code",
      "metadata": {
        "colab": {
          "base_uri": "https://localhost:8080/",
          "height": 48
        },
        "id": "e84549c6",
        "outputId": "9c017e19-fd77-408e-af49-8229a37838ae"
      },
      "source": [
        "#Valores inconsistentes\n",
        "df_hist[df_hist['Quantidade Acc 12M'] < df_hist['Quantidade Acc 6M']]"
      ],
      "id": "e84549c6",
      "execution_count": null,
      "outputs": [
        {
          "output_type": "execute_result",
          "data": {
            "text/html": [
              "<div>\n",
              "<style scoped>\n",
              "    .dataframe tbody tr th:only-of-type {\n",
              "        vertical-align: middle;\n",
              "    }\n",
              "\n",
              "    .dataframe tbody tr th {\n",
              "        vertical-align: top;\n",
              "    }\n",
              "\n",
              "    .dataframe thead th {\n",
              "        text-align: right;\n",
              "    }\n",
              "</style>\n",
              "<table border=\"1\" class=\"dataframe\">\n",
              "  <thead>\n",
              "    <tr style=\"text-align: right;\">\n",
              "      <th></th>\n",
              "      <th>Consumidor</th>\n",
              "      <th>Produto</th>\n",
              "      <th>Quantidade Acc 12M</th>\n",
              "      <th>Quantidade Acc 6M</th>\n",
              "    </tr>\n",
              "  </thead>\n",
              "  <tbody>\n",
              "  </tbody>\n",
              "</table>\n",
              "</div>"
            ],
            "text/plain": [
              "Empty DataFrame\n",
              "Columns: [Consumidor, Produto, Quantidade Acc 12M, Quantidade Acc 6M]\n",
              "Index: []"
            ]
          },
          "metadata": {},
          "execution_count": 8
        }
      ]
    },
    {
      "cell_type": "markdown",
      "metadata": {
        "id": "37b1b218"
      },
      "source": [
        "## EDA - Análise Exploratória"
      ],
      "id": "37b1b218"
    },
    {
      "cell_type": "code",
      "metadata": {
        "colab": {
          "base_uri": "https://localhost:8080/",
          "height": 294
        },
        "id": "92356c9b",
        "outputId": "514dc17e-aa7e-469d-f9e2-fc34b6c7c982"
      },
      "source": [
        "#Analise Inicial - Histórico de Compras\n",
        "df_hist.describe()"
      ],
      "id": "92356c9b",
      "execution_count": null,
      "outputs": [
        {
          "output_type": "execute_result",
          "data": {
            "text/html": [
              "<div>\n",
              "<style scoped>\n",
              "    .dataframe tbody tr th:only-of-type {\n",
              "        vertical-align: middle;\n",
              "    }\n",
              "\n",
              "    .dataframe tbody tr th {\n",
              "        vertical-align: top;\n",
              "    }\n",
              "\n",
              "    .dataframe thead th {\n",
              "        text-align: right;\n",
              "    }\n",
              "</style>\n",
              "<table border=\"1\" class=\"dataframe\">\n",
              "  <thead>\n",
              "    <tr style=\"text-align: right;\">\n",
              "      <th></th>\n",
              "      <th>Consumidor</th>\n",
              "      <th>Produto</th>\n",
              "      <th>Quantidade Acc 12M</th>\n",
              "      <th>Quantidade Acc 6M</th>\n",
              "    </tr>\n",
              "  </thead>\n",
              "  <tbody>\n",
              "    <tr>\n",
              "      <th>count</th>\n",
              "      <td>1048488.000</td>\n",
              "      <td>1048488.000</td>\n",
              "      <td>1048488.000</td>\n",
              "      <td>1048488.000</td>\n",
              "    </tr>\n",
              "    <tr>\n",
              "      <th>mean</th>\n",
              "      <td>9362.000</td>\n",
              "      <td>40.493</td>\n",
              "      <td>2.500</td>\n",
              "      <td>0.625</td>\n",
              "    </tr>\n",
              "    <tr>\n",
              "      <th>std</th>\n",
              "      <td>5404.867</td>\n",
              "      <td>23.082</td>\n",
              "      <td>1.708</td>\n",
              "      <td>1.099</td>\n",
              "    </tr>\n",
              "    <tr>\n",
              "      <th>min</th>\n",
              "      <td>1.000</td>\n",
              "      <td>1.000</td>\n",
              "      <td>0.000</td>\n",
              "      <td>0.000</td>\n",
              "    </tr>\n",
              "    <tr>\n",
              "      <th>25%</th>\n",
              "      <td>4681.000</td>\n",
              "      <td>21.000</td>\n",
              "      <td>1.000</td>\n",
              "      <td>0.000</td>\n",
              "    </tr>\n",
              "    <tr>\n",
              "      <th>50%</th>\n",
              "      <td>9362.000</td>\n",
              "      <td>41.000</td>\n",
              "      <td>2.000</td>\n",
              "      <td>0.000</td>\n",
              "    </tr>\n",
              "    <tr>\n",
              "      <th>75%</th>\n",
              "      <td>14043.000</td>\n",
              "      <td>60.000</td>\n",
              "      <td>4.000</td>\n",
              "      <td>1.000</td>\n",
              "    </tr>\n",
              "    <tr>\n",
              "      <th>max</th>\n",
              "      <td>18723.000</td>\n",
              "      <td>80.000</td>\n",
              "      <td>5.000</td>\n",
              "      <td>5.000</td>\n",
              "    </tr>\n",
              "  </tbody>\n",
              "</table>\n",
              "</div>"
            ],
            "text/plain": [
              "       Consumidor     Produto  Quantidade Acc 12M  Quantidade Acc 6M\n",
              "count 1048488.000 1048488.000         1048488.000        1048488.000\n",
              "mean     9362.000      40.493               2.500              0.625\n",
              "std      5404.867      23.082               1.708              1.099\n",
              "min         1.000       1.000               0.000              0.000\n",
              "25%      4681.000      21.000               1.000              0.000\n",
              "50%      9362.000      41.000               2.000              0.000\n",
              "75%     14043.000      60.000               4.000              1.000\n",
              "max     18723.000      80.000               5.000              5.000"
            ]
          },
          "metadata": {},
          "execution_count": 9
        }
      ]
    },
    {
      "cell_type": "markdown",
      "metadata": {
        "id": "rKoOH1LtnWby"
      },
      "source": [
        "#Distribuição de vendas por consumidor\n",
        "\n",
        "Aqui já podemos analisar algo diferente que está ocorrendo no comportamento de vendas ou de compras dos consumidores, a distribuição era praticamente perfeitamente normal no período dos últimos 12 meses e agora nos últimos 6 meses as vendas se concentraram muito mais em faixas médias menores, ou seja, os consumidores estão consumindo menos? Isso levando em consideração que o período é menor mas complementar não era de se esperar tal comportamento.\n",
        "\n"
      ],
      "id": "rKoOH1LtnWby"
    },
    {
      "cell_type": "code",
      "metadata": {
        "colab": {
          "base_uri": "https://localhost:8080/",
          "height": 282
        },
        "id": "-BYsuKrqmU0V",
        "outputId": "33af66b4-4bc4-47c6-c203-0ca9745f8d01"
      },
      "source": [
        "df_hist.boxplot(column=['Quantidade Acc 12M','Quantidade Acc 6M'])"
      ],
      "id": "-BYsuKrqmU0V",
      "execution_count": null,
      "outputs": [
        {
          "output_type": "execute_result",
          "data": {
            "text/plain": [
              "<matplotlib.axes._subplots.AxesSubplot at 0x7f17fd918a50>"
            ]
          },
          "metadata": {},
          "execution_count": 110
        },
        {
          "output_type": "display_data",
          "data": {
            "image/png": "[encoded data removed]",
            "text/plain": [
              "<Figure size 432x288 with 1 Axes>"
            ]
          },
          "metadata": {
            "needs_background": "light"
          }
        }
      ]
    },
    {
      "cell_type": "code",
      "metadata": {
        "colab": {
          "base_uri": "https://localhost:8080/",
          "height": 204
        },
        "id": "1935d4c8",
        "outputId": "a745f295-935f-4d59-807f-6f9308f55142"
      },
      "source": [
        "df_hist.sample(n=5)"
      ],
      "id": "1935d4c8",
      "execution_count": null,
      "outputs": [
        {
          "output_type": "execute_result",
          "data": {
            "text/html": [
              "<div>\n",
              "<style scoped>\n",
              "    .dataframe tbody tr th:only-of-type {\n",
              "        vertical-align: middle;\n",
              "    }\n",
              "\n",
              "    .dataframe tbody tr th {\n",
              "        vertical-align: top;\n",
              "    }\n",
              "\n",
              "    .dataframe thead th {\n",
              "        text-align: right;\n",
              "    }\n",
              "</style>\n",
              "<table border=\"1\" class=\"dataframe\">\n",
              "  <thead>\n",
              "    <tr style=\"text-align: right;\">\n",
              "      <th></th>\n",
              "      <th>Consumidor</th>\n",
              "      <th>Produto</th>\n",
              "      <th>Quantidade Acc 12M</th>\n",
              "      <th>Quantidade Acc 6M</th>\n",
              "    </tr>\n",
              "  </thead>\n",
              "  <tbody>\n",
              "    <tr>\n",
              "      <th>460450</th>\n",
              "      <td>8223</td>\n",
              "      <td>56</td>\n",
              "      <td>0</td>\n",
              "      <td>0</td>\n",
              "    </tr>\n",
              "    <tr>\n",
              "      <th>447158</th>\n",
              "      <td>7985</td>\n",
              "      <td>80</td>\n",
              "      <td>1</td>\n",
              "      <td>1</td>\n",
              "    </tr>\n",
              "    <tr>\n",
              "      <th>700256</th>\n",
              "      <td>12505</td>\n",
              "      <td>6</td>\n",
              "      <td>4</td>\n",
              "      <td>0</td>\n",
              "    </tr>\n",
              "    <tr>\n",
              "      <th>761270</th>\n",
              "      <td>13595</td>\n",
              "      <td>23</td>\n",
              "      <td>1</td>\n",
              "      <td>0</td>\n",
              "    </tr>\n",
              "    <tr>\n",
              "      <th>806781</th>\n",
              "      <td>14407</td>\n",
              "      <td>61</td>\n",
              "      <td>1</td>\n",
              "      <td>0</td>\n",
              "    </tr>\n",
              "  </tbody>\n",
              "</table>\n",
              "</div>"
            ],
            "text/plain": [
              "        Consumidor  Produto  Quantidade Acc 12M  Quantidade Acc 6M\n",
              "460450        8223       56                   0                  0\n",
              "447158        7985       80                   1                  1\n",
              "700256       12505        6                   4                  0\n",
              "761270       13595       23                   1                  0\n",
              "806781       14407       61                   1                  0"
            ]
          },
          "metadata": {},
          "execution_count": 70
        }
      ]
    },
    {
      "cell_type": "code",
      "metadata": {
        "colab": {
          "base_uri": "https://localhost:8080/",
          "height": 297
        },
        "id": "6b92d4ed",
        "outputId": "d5af5966-48c8-4fe1-a7c9-2ff38fa15675"
      },
      "source": [
        "#Analise Inicial - Histórico de Recomendações\n",
        "df_carrossel.describe()"
      ],
      "id": "6b92d4ed",
      "execution_count": null,
      "outputs": [
        {
          "output_type": "execute_result",
          "data": {
            "text/html": [
              "<div>\n",
              "<style scoped>\n",
              "    .dataframe tbody tr th:only-of-type {\n",
              "        vertical-align: middle;\n",
              "    }\n",
              "\n",
              "    .dataframe tbody tr th {\n",
              "        vertical-align: top;\n",
              "    }\n",
              "\n",
              "    .dataframe thead th {\n",
              "        text-align: right;\n",
              "    }\n",
              "</style>\n",
              "<table border=\"1\" class=\"dataframe\">\n",
              "  <thead>\n",
              "    <tr style=\"text-align: right;\">\n",
              "      <th></th>\n",
              "      <th>Consumidor</th>\n",
              "      <th>NBO 1</th>\n",
              "      <th>NBO 2</th>\n",
              "      <th>NBO 3</th>\n",
              "      <th>NBO 4</th>\n",
              "      <th>NBO 5</th>\n",
              "      <th>Score NBO 1</th>\n",
              "      <th>Score NBO 2</th>\n",
              "      <th>Score NBO 3</th>\n",
              "      <th>Score NBO 4</th>\n",
              "      <th>Score NBO 5</th>\n",
              "    </tr>\n",
              "  </thead>\n",
              "  <tbody>\n",
              "    <tr>\n",
              "      <th>count</th>\n",
              "      <td>18723.000</td>\n",
              "      <td>18723.000</td>\n",
              "      <td>18723.000</td>\n",
              "      <td>18723.000</td>\n",
              "      <td>18723.000</td>\n",
              "      <td>18723.000</td>\n",
              "      <td>18723.000</td>\n",
              "      <td>18723.000</td>\n",
              "      <td>18723.000</td>\n",
              "      <td>18723.000</td>\n",
              "      <td>18723.000</td>\n",
              "    </tr>\n",
              "    <tr>\n",
              "      <th>mean</th>\n",
              "      <td>9362.000</td>\n",
              "      <td>10.574</td>\n",
              "      <td>27.017</td>\n",
              "      <td>42.057</td>\n",
              "      <td>58.506</td>\n",
              "      <td>73.476</td>\n",
              "      <td>0.744</td>\n",
              "      <td>0.744</td>\n",
              "      <td>0.745</td>\n",
              "      <td>0.746</td>\n",
              "      <td>0.745</td>\n",
              "    </tr>\n",
              "    <tr>\n",
              "      <th>std</th>\n",
              "      <td>5405.009</td>\n",
              "      <td>5.778</td>\n",
              "      <td>3.741</td>\n",
              "      <td>4.918</td>\n",
              "      <td>4.625</td>\n",
              "      <td>4.025</td>\n",
              "      <td>0.139</td>\n",
              "      <td>0.139</td>\n",
              "      <td>0.138</td>\n",
              "      <td>0.138</td>\n",
              "      <td>0.139</td>\n",
              "    </tr>\n",
              "    <tr>\n",
              "      <th>min</th>\n",
              "      <td>1.000</td>\n",
              "      <td>1.000</td>\n",
              "      <td>21.000</td>\n",
              "      <td>34.000</td>\n",
              "      <td>51.000</td>\n",
              "      <td>67.000</td>\n",
              "      <td>0.510</td>\n",
              "      <td>0.510</td>\n",
              "      <td>0.510</td>\n",
              "      <td>0.510</td>\n",
              "      <td>0.510</td>\n",
              "    </tr>\n",
              "    <tr>\n",
              "      <th>25%</th>\n",
              "      <td>4681.500</td>\n",
              "      <td>6.000</td>\n",
              "      <td>24.000</td>\n",
              "      <td>38.000</td>\n",
              "      <td>55.000</td>\n",
              "      <td>70.000</td>\n",
              "      <td>0.620</td>\n",
              "      <td>0.620</td>\n",
              "      <td>0.630</td>\n",
              "      <td>0.630</td>\n",
              "      <td>0.620</td>\n",
              "    </tr>\n",
              "    <tr>\n",
              "      <th>50%</th>\n",
              "      <td>9362.000</td>\n",
              "      <td>11.000</td>\n",
              "      <td>27.000</td>\n",
              "      <td>42.000</td>\n",
              "      <td>58.000</td>\n",
              "      <td>73.000</td>\n",
              "      <td>0.740</td>\n",
              "      <td>0.740</td>\n",
              "      <td>0.750</td>\n",
              "      <td>0.750</td>\n",
              "      <td>0.740</td>\n",
              "    </tr>\n",
              "    <tr>\n",
              "      <th>75%</th>\n",
              "      <td>14042.500</td>\n",
              "      <td>16.000</td>\n",
              "      <td>30.000</td>\n",
              "      <td>46.000</td>\n",
              "      <td>63.000</td>\n",
              "      <td>77.000</td>\n",
              "      <td>0.870</td>\n",
              "      <td>0.870</td>\n",
              "      <td>0.860</td>\n",
              "      <td>0.870</td>\n",
              "      <td>0.870</td>\n",
              "    </tr>\n",
              "    <tr>\n",
              "      <th>max</th>\n",
              "      <td>18723.000</td>\n",
              "      <td>20.000</td>\n",
              "      <td>33.000</td>\n",
              "      <td>50.000</td>\n",
              "      <td>66.000</td>\n",
              "      <td>80.000</td>\n",
              "      <td>0.980</td>\n",
              "      <td>0.980</td>\n",
              "      <td>0.980</td>\n",
              "      <td>0.980</td>\n",
              "      <td>0.980</td>\n",
              "    </tr>\n",
              "  </tbody>\n",
              "</table>\n",
              "</div>"
            ],
            "text/plain": [
              "       Consumidor     NBO 1     NBO 2  ...  Score NBO 3  Score NBO 4  Score NBO 5\n",
              "count   18723.000 18723.000 18723.000  ...    18723.000    18723.000    18723.000\n",
              "mean     9362.000    10.574    27.017  ...        0.745        0.746        0.745\n",
              "std      5405.009     5.778     3.741  ...        0.138        0.138        0.139\n",
              "min         1.000     1.000    21.000  ...        0.510        0.510        0.510\n",
              "25%      4681.500     6.000    24.000  ...        0.630        0.630        0.620\n",
              "50%      9362.000    11.000    27.000  ...        0.750        0.750        0.740\n",
              "75%     14042.500    16.000    30.000  ...        0.860        0.870        0.870\n",
              "max     18723.000    20.000    33.000  ...        0.980        0.980        0.980\n",
              "\n",
              "[8 rows x 11 columns]"
            ]
          },
          "metadata": {},
          "execution_count": 71
        }
      ]
    },
    {
      "cell_type": "code",
      "metadata": {
        "colab": {
          "base_uri": "https://localhost:8080/",
          "height": 204
        },
        "id": "cdf9efd5",
        "outputId": "faafe76d-c140-4285-d9c8-4aeb2ae012de"
      },
      "source": [
        "df_carrossel.sample(n=5)"
      ],
      "id": "cdf9efd5",
      "execution_count": null,
      "outputs": [
        {
          "output_type": "execute_result",
          "data": {
            "text/html": [
              "<div>\n",
              "<style scoped>\n",
              "    .dataframe tbody tr th:only-of-type {\n",
              "        vertical-align: middle;\n",
              "    }\n",
              "\n",
              "    .dataframe tbody tr th {\n",
              "        vertical-align: top;\n",
              "    }\n",
              "\n",
              "    .dataframe thead th {\n",
              "        text-align: right;\n",
              "    }\n",
              "</style>\n",
              "<table border=\"1\" class=\"dataframe\">\n",
              "  <thead>\n",
              "    <tr style=\"text-align: right;\">\n",
              "      <th></th>\n",
              "      <th>Consumidor</th>\n",
              "      <th>NBO 1</th>\n",
              "      <th>NBO 2</th>\n",
              "      <th>NBO 3</th>\n",
              "      <th>NBO 4</th>\n",
              "      <th>NBO 5</th>\n",
              "      <th>Score NBO 1</th>\n",
              "      <th>Score NBO 2</th>\n",
              "      <th>Score NBO 3</th>\n",
              "      <th>Score NBO 4</th>\n",
              "      <th>Score NBO 5</th>\n",
              "    </tr>\n",
              "  </thead>\n",
              "  <tbody>\n",
              "    <tr>\n",
              "      <th>13562</th>\n",
              "      <td>13563</td>\n",
              "      <td>15</td>\n",
              "      <td>32</td>\n",
              "      <td>49</td>\n",
              "      <td>56</td>\n",
              "      <td>69</td>\n",
              "      <td>0.630</td>\n",
              "      <td>0.590</td>\n",
              "      <td>0.940</td>\n",
              "      <td>0.560</td>\n",
              "      <td>0.900</td>\n",
              "    </tr>\n",
              "    <tr>\n",
              "      <th>16291</th>\n",
              "      <td>16292</td>\n",
              "      <td>17</td>\n",
              "      <td>28</td>\n",
              "      <td>50</td>\n",
              "      <td>59</td>\n",
              "      <td>73</td>\n",
              "      <td>0.540</td>\n",
              "      <td>0.710</td>\n",
              "      <td>0.760</td>\n",
              "      <td>0.680</td>\n",
              "      <td>0.700</td>\n",
              "    </tr>\n",
              "    <tr>\n",
              "      <th>2121</th>\n",
              "      <td>2122</td>\n",
              "      <td>2</td>\n",
              "      <td>27</td>\n",
              "      <td>35</td>\n",
              "      <td>52</td>\n",
              "      <td>76</td>\n",
              "      <td>0.940</td>\n",
              "      <td>0.550</td>\n",
              "      <td>0.660</td>\n",
              "      <td>0.800</td>\n",
              "      <td>0.840</td>\n",
              "    </tr>\n",
              "    <tr>\n",
              "      <th>1203</th>\n",
              "      <td>1204</td>\n",
              "      <td>18</td>\n",
              "      <td>31</td>\n",
              "      <td>40</td>\n",
              "      <td>55</td>\n",
              "      <td>79</td>\n",
              "      <td>0.760</td>\n",
              "      <td>0.980</td>\n",
              "      <td>0.900</td>\n",
              "      <td>0.680</td>\n",
              "      <td>0.540</td>\n",
              "    </tr>\n",
              "    <tr>\n",
              "      <th>7623</th>\n",
              "      <td>7624</td>\n",
              "      <td>20</td>\n",
              "      <td>31</td>\n",
              "      <td>41</td>\n",
              "      <td>65</td>\n",
              "      <td>78</td>\n",
              "      <td>0.970</td>\n",
              "      <td>0.570</td>\n",
              "      <td>0.670</td>\n",
              "      <td>0.610</td>\n",
              "      <td>0.980</td>\n",
              "    </tr>\n",
              "  </tbody>\n",
              "</table>\n",
              "</div>"
            ],
            "text/plain": [
              "       Consumidor  NBO 1  NBO 2  ...  Score NBO 3  Score NBO 4  Score NBO 5\n",
              "13562       13563     15     32  ...        0.940        0.560        0.900\n",
              "16291       16292     17     28  ...        0.760        0.680        0.700\n",
              "2121         2122      2     27  ...        0.660        0.800        0.840\n",
              "1203         1204     18     31  ...        0.900        0.680        0.540\n",
              "7623         7624     20     31  ...        0.670        0.610        0.980\n",
              "\n",
              "[5 rows x 11 columns]"
            ]
          },
          "metadata": {},
          "execution_count": 72
        }
      ]
    },
    {
      "cell_type": "code",
      "metadata": {
        "colab": {
          "base_uri": "https://localhost:8080/"
        },
        "id": "ecc6f436",
        "outputId": "3f730268-7385-4525-a61b-3fbd81ed5286"
      },
      "source": [
        "#TOP 5 Produtos vendidos na base histórica\n",
        "#df_hist_top5 = df_hist['Produto'].value_counts().sort_values(ascending=False).head(5)\n",
        "#df_hist_top5\n",
        "\n",
        "df_hist_sum_prod = df_hist.groupby(['Produto'])['Quantidade Acc 12M'].agg('sum')\n",
        "\n",
        "df_hist_sum_prod.sort_values(ascending=False).head(5)"
      ],
      "id": "ecc6f436",
      "execution_count": null,
      "outputs": [
        {
          "output_type": "execute_result",
          "data": {
            "text/plain": [
              "Produto\n",
              "2     33581\n",
              "22    33473\n",
              "19    33357\n",
              "41    33344\n",
              "62    33333\n",
              "Name: Quantidade Acc 12M, dtype: int64"
            ]
          },
          "metadata": {},
          "execution_count": 10
        }
      ]
    },
    {
      "cell_type": "code",
      "metadata": {
        "colab": {
          "base_uri": "https://localhost:8080/"
        },
        "id": "ae3b0f5f",
        "outputId": "67418db7-71bf-4bcc-a8ce-f028cf828945"
      },
      "source": [
        "#LOWEST 5 Produtos vendidos na base histórica\n",
        "df_hist_sum_prod.sort_values(ascending=True).head(5)"
      ],
      "id": "ae3b0f5f",
      "execution_count": null,
      "outputs": [
        {
          "output_type": "execute_result",
          "data": {
            "text/plain": [
              "Produto\n",
              "12    32007\n",
              "30    32031\n",
              "13    32108\n",
              "47    32144\n",
              "26    32206\n",
              "Name: Quantidade Acc 12M, dtype: int64"
            ]
          },
          "metadata": {},
          "execution_count": 11
        }
      ]
    },
    {
      "cell_type": "code",
      "metadata": {
        "id": "rZxFJbrIpXMY"
      },
      "source": [
        "#df_hist_sum_prod.boxplot(column='sum')\n",
        "# criar um boxplot da distribuição de vendas por produto"
      ],
      "id": "rZxFJbrIpXMY",
      "execution_count": null,
      "outputs": []
    },
    {
      "cell_type": "code",
      "metadata": {
        "colab": {
          "base_uri": "https://localhost:8080/"
        },
        "id": "a65357ee",
        "outputId": "4a41c4b6-d1e8-4bd0-b1f8-0b813357909c"
      },
      "source": [
        "#TOP 5 Produtos Mais Sugeridos no carrossel\n",
        "a = df_carrossel['NBO 1']\n",
        "b = df_carrossel['NBO 2']\n",
        "c = df_carrossel['NBO 3']\n",
        "d = df_carrossel['NBO 4']\n",
        "e = df_carrossel['NBO 5']\n",
        "\n",
        "df_carrossel_top5 = pd.concat([a, b, c, d, e])\n",
        "df_carrossel_top5 = df_carrossel_top5.value_counts().sort_values(ascending=False).head(5)\n",
        "df_carrossel_top5"
      ],
      "id": "a65357ee",
      "execution_count": null,
      "outputs": [
        {
          "output_type": "execute_result",
          "data": {
            "text/plain": [
              "31    1476\n",
              "27    1471\n",
              "32    1463\n",
              "22    1463\n",
              "24    1460\n",
              "dtype: int64"
            ]
          },
          "metadata": {},
          "execution_count": 75
        }
      ]
    },
    {
      "cell_type": "code",
      "metadata": {
        "colab": {
          "base_uri": "https://localhost:8080/"
        },
        "id": "9e5c43ac",
        "outputId": "780410cf-c679-4c22-c9ed-871d771eb3c6"
      },
      "source": [
        "#LOWEST 5 Produtos Menos Sugeridos no carrossel\n",
        "df_carrossel_lowest5 = pd.concat([a, b, c, d, e])\n",
        "df_carrossel_lowest5 = df_carrossel_lowest5.value_counts().sort_values(ascending=True).head(5)\n",
        "df_carrossel_lowest5"
      ],
      "id": "9e5c43ac",
      "execution_count": null,
      "outputs": [
        {
          "output_type": "execute_result",
          "data": {
            "text/plain": [
              "14    875\n",
              "3     891\n",
              "8     899\n",
              "7     904\n",
              "2     907\n",
              "dtype: int64"
            ]
          },
          "metadata": {},
          "execution_count": 76
        }
      ]
    },
    {
      "cell_type": "code",
      "metadata": {
        "colab": {
          "base_uri": "https://localhost:8080/"
        },
        "id": "327745fa",
        "outputId": "f5050e83-2337-42f2-a97c-b2bded38fc2e"
      },
      "source": [
        "#TOP 5 Consumidores (com base no numero de compras na base histórica) 6M\n",
        "df_hist_top5con6M = df_hist[df_hist['Quantidade Acc 6M'] > 0]\n",
        "df_hist_top5con6M = df_hist_top5con6M.groupby(['Consumidor'])['Quantidade Acc 6M'].agg('sum')\n",
        "df_hist_top5con6M = df_hist_top5con6M.sort_values(ascending=False).head(5)\n",
        "\n",
        "df_hist_top5con6M\n",
        "\n",
        "# Quantidade Acc 12M \tQuantidade Acc 6M"
      ],
      "id": "327745fa",
      "execution_count": null,
      "outputs": [
        {
          "output_type": "execute_result",
          "data": {
            "text/plain": [
              "Consumidor\n",
              "11859    76\n",
              "14244    73\n",
              "4642     70\n",
              "3543     68\n",
              "15962    67\n",
              "Name: Quantidade Acc 6M, dtype: int64"
            ]
          },
          "metadata": {},
          "execution_count": 88
        }
      ]
    },
    {
      "cell_type": "code",
      "metadata": {
        "colab": {
          "base_uri": "https://localhost:8080/"
        },
        "id": "6082eb9d",
        "outputId": "fc88f0d1-a386-4149-8b86-0e3151050b53"
      },
      "source": [
        "#TOP 5 Consumidores (com base no numero de compras na base histórica) 12M\n",
        "df_hist_top5con12M = df_hist[df_hist['Quantidade Acc 12M'] > 0]\n",
        "#df_hist_top5con12M = df_hist_top5con12M['Consumidor'].value_counts().sort_values(ascending=False).head(5)\n",
        "#df_hist_top5con12M\n",
        "\n",
        "df_hist_top5con12M = df_hist_top5con12M.groupby(['Consumidor'])['Quantidade Acc 12M'].agg('sum')\n",
        "\n",
        "df_hist_top5con12M = df_hist_top5con12M.sort_values(ascending=False).head(5)\n",
        "\n",
        "df_hist_top5con12M"
      ],
      "id": "6082eb9d",
      "execution_count": null,
      "outputs": [
        {
          "output_type": "execute_result",
          "data": {
            "text/plain": [
              "Consumidor\n",
              "17663    187\n",
              "13105    186\n",
              "9675     185\n",
              "9094     183\n",
              "1784     182\n",
              "Name: Quantidade Acc 12M, dtype: int64"
            ]
          },
          "metadata": {},
          "execution_count": 90
        }
      ]
    },
    {
      "cell_type": "code",
      "metadata": {
        "id": "INeS9x27yNn0"
      },
      "source": [
        ""
      ],
      "id": "INeS9x27yNn0",
      "execution_count": null,
      "outputs": []
    },
    {
      "cell_type": "code",
      "metadata": {
        "colab": {
          "base_uri": "https://localhost:8080/",
          "height": 204
        },
        "id": "245e1cad",
        "outputId": "91bcb928-3d2b-4fb5-9ad2-416e37d46a8c"
      },
      "source": [
        "#Trazer o NBO do TOP 5 Consumidores 6M\n",
        "df_hist_top5con6M = pd.merge(df_hist_top5con6M, df_carrossel, how='inner', on=[\"Consumidor\", \"Consumidor\"])\n",
        "df_hist_top5con6M"
      ],
      "id": "245e1cad",
      "execution_count": null,
      "outputs": [
        {
          "output_type": "execute_result",
          "data": {
            "text/html": [
              "<div>\n",
              "<style scoped>\n",
              "    .dataframe tbody tr th:only-of-type {\n",
              "        vertical-align: middle;\n",
              "    }\n",
              "\n",
              "    .dataframe tbody tr th {\n",
              "        vertical-align: top;\n",
              "    }\n",
              "\n",
              "    .dataframe thead th {\n",
              "        text-align: right;\n",
              "    }\n",
              "</style>\n",
              "<table border=\"1\" class=\"dataframe\">\n",
              "  <thead>\n",
              "    <tr style=\"text-align: right;\">\n",
              "      <th></th>\n",
              "      <th>Consumidor</th>\n",
              "      <th>Quantidade Acc 6M</th>\n",
              "      <th>NBO 1</th>\n",
              "      <th>NBO 2</th>\n",
              "      <th>NBO 3</th>\n",
              "      <th>NBO 4</th>\n",
              "      <th>NBO 5</th>\n",
              "      <th>Score NBO 1</th>\n",
              "      <th>Score NBO 2</th>\n",
              "      <th>Score NBO 3</th>\n",
              "      <th>Score NBO 4</th>\n",
              "      <th>Score NBO 5</th>\n",
              "    </tr>\n",
              "  </thead>\n",
              "  <tbody>\n",
              "    <tr>\n",
              "      <th>0</th>\n",
              "      <td>11859</td>\n",
              "      <td>76</td>\n",
              "      <td>12</td>\n",
              "      <td>31</td>\n",
              "      <td>47</td>\n",
              "      <td>63</td>\n",
              "      <td>79</td>\n",
              "      <td>0.620</td>\n",
              "      <td>0.930</td>\n",
              "      <td>0.970</td>\n",
              "      <td>0.590</td>\n",
              "      <td>0.630</td>\n",
              "    </tr>\n",
              "    <tr>\n",
              "      <th>1</th>\n",
              "      <td>14244</td>\n",
              "      <td>73</td>\n",
              "      <td>18</td>\n",
              "      <td>22</td>\n",
              "      <td>49</td>\n",
              "      <td>53</td>\n",
              "      <td>79</td>\n",
              "      <td>0.970</td>\n",
              "      <td>0.640</td>\n",
              "      <td>0.760</td>\n",
              "      <td>0.660</td>\n",
              "      <td>0.650</td>\n",
              "    </tr>\n",
              "    <tr>\n",
              "      <th>2</th>\n",
              "      <td>4642</td>\n",
              "      <td>70</td>\n",
              "      <td>11</td>\n",
              "      <td>33</td>\n",
              "      <td>50</td>\n",
              "      <td>64</td>\n",
              "      <td>71</td>\n",
              "      <td>0.860</td>\n",
              "      <td>0.900</td>\n",
              "      <td>0.810</td>\n",
              "      <td>0.730</td>\n",
              "      <td>0.630</td>\n",
              "    </tr>\n",
              "    <tr>\n",
              "      <th>3</th>\n",
              "      <td>3543</td>\n",
              "      <td>68</td>\n",
              "      <td>16</td>\n",
              "      <td>22</td>\n",
              "      <td>50</td>\n",
              "      <td>63</td>\n",
              "      <td>79</td>\n",
              "      <td>0.860</td>\n",
              "      <td>0.920</td>\n",
              "      <td>0.600</td>\n",
              "      <td>0.870</td>\n",
              "      <td>0.650</td>\n",
              "    </tr>\n",
              "    <tr>\n",
              "      <th>4</th>\n",
              "      <td>15962</td>\n",
              "      <td>67</td>\n",
              "      <td>12</td>\n",
              "      <td>33</td>\n",
              "      <td>38</td>\n",
              "      <td>53</td>\n",
              "      <td>69</td>\n",
              "      <td>0.880</td>\n",
              "      <td>0.900</td>\n",
              "      <td>0.650</td>\n",
              "      <td>0.950</td>\n",
              "      <td>0.830</td>\n",
              "    </tr>\n",
              "  </tbody>\n",
              "</table>\n",
              "</div>"
            ],
            "text/plain": [
              "   Consumidor  Quantidade Acc 6M  NBO 1  ...  Score NBO 3  Score NBO 4  Score NBO 5\n",
              "0       11859                 76     12  ...        0.970        0.590        0.630\n",
              "1       14244                 73     18  ...        0.760        0.660        0.650\n",
              "2        4642                 70     11  ...        0.810        0.730        0.630\n",
              "3        3543                 68     16  ...        0.600        0.870        0.650\n",
              "4       15962                 67     12  ...        0.650        0.950        0.830\n",
              "\n",
              "[5 rows x 12 columns]"
            ]
          },
          "metadata": {},
          "execution_count": 89
        }
      ]
    },
    {
      "cell_type": "code",
      "metadata": {
        "colab": {
          "base_uri": "https://localhost:8080/",
          "height": 204
        },
        "id": "a2870fc5",
        "outputId": "5d87dda1-70a2-4f87-d977-afefe22e2636"
      },
      "source": [
        "#Trazer o NBO do TOP 5 Consumidores 12M\n",
        "df_hist_top5con12M = pd.merge(df_hist_top5con12M, df_carrossel, how='inner', on=[\"Consumidor\", \"Consumidor\"])\n",
        "df_hist_top5con12M"
      ],
      "id": "a2870fc5",
      "execution_count": null,
      "outputs": [
        {
          "output_type": "execute_result",
          "data": {
            "text/html": [
              "<div>\n",
              "<style scoped>\n",
              "    .dataframe tbody tr th:only-of-type {\n",
              "        vertical-align: middle;\n",
              "    }\n",
              "\n",
              "    .dataframe tbody tr th {\n",
              "        vertical-align: top;\n",
              "    }\n",
              "\n",
              "    .dataframe thead th {\n",
              "        text-align: right;\n",
              "    }\n",
              "</style>\n",
              "<table border=\"1\" class=\"dataframe\">\n",
              "  <thead>\n",
              "    <tr style=\"text-align: right;\">\n",
              "      <th></th>\n",
              "      <th>Consumidor</th>\n",
              "      <th>Quantidade Acc 12M</th>\n",
              "      <th>NBO 1</th>\n",
              "      <th>NBO 2</th>\n",
              "      <th>NBO 3</th>\n",
              "      <th>NBO 4</th>\n",
              "      <th>NBO 5</th>\n",
              "      <th>Score NBO 1</th>\n",
              "      <th>Score NBO 2</th>\n",
              "      <th>Score NBO 3</th>\n",
              "      <th>Score NBO 4</th>\n",
              "      <th>Score NBO 5</th>\n",
              "    </tr>\n",
              "  </thead>\n",
              "  <tbody>\n",
              "    <tr>\n",
              "      <th>0</th>\n",
              "      <td>17663</td>\n",
              "      <td>187</td>\n",
              "      <td>15</td>\n",
              "      <td>31</td>\n",
              "      <td>46</td>\n",
              "      <td>65</td>\n",
              "      <td>80</td>\n",
              "      <td>0.580</td>\n",
              "      <td>0.890</td>\n",
              "      <td>0.960</td>\n",
              "      <td>0.880</td>\n",
              "      <td>0.580</td>\n",
              "    </tr>\n",
              "    <tr>\n",
              "      <th>1</th>\n",
              "      <td>13105</td>\n",
              "      <td>186</td>\n",
              "      <td>16</td>\n",
              "      <td>30</td>\n",
              "      <td>39</td>\n",
              "      <td>53</td>\n",
              "      <td>78</td>\n",
              "      <td>0.770</td>\n",
              "      <td>0.920</td>\n",
              "      <td>0.850</td>\n",
              "      <td>0.530</td>\n",
              "      <td>0.510</td>\n",
              "    </tr>\n",
              "    <tr>\n",
              "      <th>2</th>\n",
              "      <td>9675</td>\n",
              "      <td>185</td>\n",
              "      <td>18</td>\n",
              "      <td>28</td>\n",
              "      <td>34</td>\n",
              "      <td>58</td>\n",
              "      <td>73</td>\n",
              "      <td>0.540</td>\n",
              "      <td>0.510</td>\n",
              "      <td>0.600</td>\n",
              "      <td>0.820</td>\n",
              "      <td>0.530</td>\n",
              "    </tr>\n",
              "    <tr>\n",
              "      <th>3</th>\n",
              "      <td>9094</td>\n",
              "      <td>183</td>\n",
              "      <td>12</td>\n",
              "      <td>33</td>\n",
              "      <td>50</td>\n",
              "      <td>66</td>\n",
              "      <td>73</td>\n",
              "      <td>0.550</td>\n",
              "      <td>0.610</td>\n",
              "      <td>0.510</td>\n",
              "      <td>0.620</td>\n",
              "      <td>0.550</td>\n",
              "    </tr>\n",
              "    <tr>\n",
              "      <th>4</th>\n",
              "      <td>1784</td>\n",
              "      <td>182</td>\n",
              "      <td>18</td>\n",
              "      <td>22</td>\n",
              "      <td>50</td>\n",
              "      <td>65</td>\n",
              "      <td>77</td>\n",
              "      <td>0.660</td>\n",
              "      <td>0.820</td>\n",
              "      <td>0.790</td>\n",
              "      <td>0.820</td>\n",
              "      <td>0.940</td>\n",
              "    </tr>\n",
              "  </tbody>\n",
              "</table>\n",
              "</div>"
            ],
            "text/plain": [
              "   Consumidor  Quantidade Acc 12M  NBO 1  ...  Score NBO 3  Score NBO 4  Score NBO 5\n",
              "0       17663                 187     15  ...        0.960        0.880        0.580\n",
              "1       13105                 186     16  ...        0.850        0.530        0.510\n",
              "2        9675                 185     18  ...        0.600        0.820        0.530\n",
              "3        9094                 183     12  ...        0.510        0.620        0.550\n",
              "4        1784                 182     18  ...        0.790        0.820        0.940\n",
              "\n",
              "[5 rows x 12 columns]"
            ]
          },
          "metadata": {},
          "execution_count": 85
        }
      ]
    },
    {
      "cell_type": "code",
      "metadata": {
        "id": "oV4Z58VlncG1"
      },
      "source": [
        ""
      ],
      "id": "oV4Z58VlncG1",
      "execution_count": null,
      "outputs": []
    },
    {
      "cell_type": "markdown",
      "metadata": {
        "id": "92d3751e"
      },
      "source": [
        "# REMARK: Qual a lógica por traz da recomendação dos 5 produtos do carrossel?\n",
        "Cada NBO [1 ao 5] pode sugerir apenas um range de produtos como é demonstrado a seguir\n",
        "\n",
        "=> Isto é ruim pois caso o cliente tenha um historico de compras somente para produtos da faixa (67 ao 80), os outros NBOs ficariam mal utilizados"
      ],
      "id": "92d3751e"
    },
    {
      "cell_type": "code",
      "metadata": {
        "id": "f01cc611"
      },
      "source": [
        "df_carrossel['NBO 1'].describe()   # Produto 1  ao 20"
      ],
      "id": "f01cc611",
      "execution_count": null,
      "outputs": []
    },
    {
      "cell_type": "code",
      "metadata": {
        "id": "adf09567"
      },
      "source": [
        "df_carrossel['NBO 2'].describe()    # Produto 21 ao 33"
      ],
      "id": "adf09567",
      "execution_count": null,
      "outputs": []
    },
    {
      "cell_type": "code",
      "metadata": {
        "id": "7e518c7f"
      },
      "source": [
        "df_carrossel['NBO 3'].describe()    # Produto 34 ao 50"
      ],
      "id": "7e518c7f",
      "execution_count": null,
      "outputs": []
    },
    {
      "cell_type": "code",
      "metadata": {
        "id": "3f6b726b"
      },
      "source": [
        "df_carrossel['NBO 4'].describe()    # Produto 51 ao 66"
      ],
      "id": "3f6b726b",
      "execution_count": null,
      "outputs": []
    },
    {
      "cell_type": "code",
      "metadata": {
        "id": "1d6e339c"
      },
      "source": [
        "df_carrossel['NBO 5'].describe()    # Produto 67 ao 80"
      ],
      "id": "1d6e339c",
      "execution_count": null,
      "outputs": []
    },
    {
      "cell_type": "markdown",
      "metadata": {
        "id": "d800388a"
      },
      "source": [
        "# REMARK: Quantas variações de recomendações foram feitas?\n",
        "==> 18562 variações de um total de 18723 => 99.14 % de recomendações únicas"
      ],
      "id": "d800388a"
    },
    {
      "cell_type": "code",
      "metadata": {
        "id": "6e9f9dee"
      },
      "source": [
        "df_carrossel['ConjuntoID'] = 99*(100**5) + (df_carrossel['NBO 1']*(100**4)) + (df_carrossel['NBO 2']*(100**3)) + (df_carrossel['NBO 3']*(100**2)) + (df_carrossel['NBO 4']*(100**1)) + (df_carrossel['NBO 5']*(100**0))\n",
        "df_carrossel['ConjuntoID'].value_counts().sort_values(ascending=False)\n"
      ],
      "id": "6e9f9dee",
      "execution_count": null,
      "outputs": []
    },
    {
      "cell_type": "markdown",
      "metadata": {
        "id": "6LmorSM35M0S"
      },
      "source": [
        "#REMARK: Consumidores que nunca compraram?"
      ],
      "id": "6LmorSM35M0S"
    },
    {
      "cell_type": "code",
      "metadata": {
        "id": "6COsMbBr5Mfg"
      },
      "source": [
        "df_hist_nonbuyers = df_hist.groupby(['Consumidor'], as_index=False)['Quantidade Acc 12M'].sum()\n",
        "df_hist_nonbuyers.columns = ['Consumidor', 'Total Acc 12M']\n",
        "df_hist_nonbuyers[df_hist_nonbuyers['Total Acc 12M']==0 ]"
      ],
      "id": "6COsMbBr5Mfg",
      "execution_count": null,
      "outputs": []
    },
    {
      "cell_type": "markdown",
      "metadata": {
        "id": "4_y7Ku8T-nXv"
      },
      "source": [
        "#REMARK: Produtos que nunca foram vendidos?"
      ],
      "id": "4_y7Ku8T-nXv"
    },
    {
      "cell_type": "code",
      "metadata": {
        "id": "83UqF40o-rsQ"
      },
      "source": [
        "df_hist_neversold = df_hist.groupby(['Produto'], as_index=False)['Quantidade Acc 12M'].sum()\n",
        "df_hist_neversold.columns = ['Produto', 'Total Acc 12M']\n",
        "df_hist_neversold[df_hist_neversold['Total Acc 12M']==0 ]"
      ],
      "id": "83UqF40o-rsQ",
      "execution_count": null,
      "outputs": []
    },
    {
      "cell_type": "markdown",
      "metadata": {
        "id": "JevVMMGkAqba"
      },
      "source": [
        "#REMARK: Carrosel com produtos não sugeridos? = 0"
      ],
      "id": "JevVMMGkAqba"
    },
    {
      "cell_type": "code",
      "metadata": {
        "id": "2Ab4Ae5CAqzi"
      },
      "source": [
        "df_carrossel[(df_carrossel['NBO 1']==0) | (df_carrossel['NBO 2']==0) | (df_carrossel['NBO 3']==0) | (df_carrossel['NBO 4']==0) | (df_carrossel['NBO 5']==0) ]"
      ],
      "id": "2Ab4Ae5CAqzi",
      "execution_count": null,
      "outputs": []
    },
    {
      "cell_type": "markdown",
      "metadata": {
        "id": "pKZ1zJjT8okv"
      },
      "source": [
        "#REMARK: Para produtos mais populares (ou mais vendidos), quantos consumidores compraram ?\n",
        "\n",
        "\n"
      ],
      "id": "pKZ1zJjT8okv"
    },
    {
      "cell_type": "code",
      "metadata": {
        "id": "ZTls_3ujAxY3",
        "colab": {
          "base_uri": "https://localhost:8080/",
          "height": 417
        },
        "outputId": "908dc195-74db-4ce8-8a65-1c7ee4118182"
      },
      "source": [
        "#12M\n",
        "df_hist[df_hist['Quantidade Acc 12M'] > 0].groupby(['Produto'], as_index=False)['Quantidade Acc 12M'].count().sort_values(by=['Quantidade Acc 12M'])"
      ],
      "id": "ZTls_3ujAxY3",
      "execution_count": 23,
      "outputs": [
        {
          "output_type": "execute_result",
          "data": {
            "text/html": [
              "<div>\n",
              "<style scoped>\n",
              "    .dataframe tbody tr th:only-of-type {\n",
              "        vertical-align: middle;\n",
              "    }\n",
              "\n",
              "    .dataframe tbody tr th {\n",
              "        vertical-align: top;\n",
              "    }\n",
              "\n",
              "    .dataframe thead th {\n",
              "        text-align: right;\n",
              "    }\n",
              "</style>\n",
              "<table border=\"1\" class=\"dataframe\">\n",
              "  <thead>\n",
              "    <tr style=\"text-align: right;\">\n",
              "      <th></th>\n",
              "      <th>Produto</th>\n",
              "      <th>Quantidade Acc 12M</th>\n",
              "    </tr>\n",
              "  </thead>\n",
              "  <tbody>\n",
              "    <tr>\n",
              "      <th>11</th>\n",
              "      <td>12</td>\n",
              "      <td>10654</td>\n",
              "    </tr>\n",
              "    <tr>\n",
              "      <th>12</th>\n",
              "      <td>13</td>\n",
              "      <td>10692</td>\n",
              "    </tr>\n",
              "    <tr>\n",
              "      <th>46</th>\n",
              "      <td>47</td>\n",
              "      <td>10705</td>\n",
              "    </tr>\n",
              "    <tr>\n",
              "      <th>29</th>\n",
              "      <td>30</td>\n",
              "      <td>10718</td>\n",
              "    </tr>\n",
              "    <tr>\n",
              "      <th>25</th>\n",
              "      <td>26</td>\n",
              "      <td>10732</td>\n",
              "    </tr>\n",
              "    <tr>\n",
              "      <th>...</th>\n",
              "      <td>...</td>\n",
              "      <td>...</td>\n",
              "    </tr>\n",
              "    <tr>\n",
              "      <th>2</th>\n",
              "      <td>3</td>\n",
              "      <td>11089</td>\n",
              "    </tr>\n",
              "    <tr>\n",
              "      <th>13</th>\n",
              "      <td>14</td>\n",
              "      <td>11117</td>\n",
              "    </tr>\n",
              "    <tr>\n",
              "      <th>18</th>\n",
              "      <td>19</td>\n",
              "      <td>11127</td>\n",
              "    </tr>\n",
              "    <tr>\n",
              "      <th>1</th>\n",
              "      <td>2</td>\n",
              "      <td>11156</td>\n",
              "    </tr>\n",
              "    <tr>\n",
              "      <th>55</th>\n",
              "      <td>56</td>\n",
              "      <td>11189</td>\n",
              "    </tr>\n",
              "  </tbody>\n",
              "</table>\n",
              "<p>80 rows × 2 columns</p>\n",
              "</div>"
            ],
            "text/plain": [
              "    Produto  Quantidade Acc 12M\n",
              "11       12               10654\n",
              "12       13               10692\n",
              "46       47               10705\n",
              "29       30               10718\n",
              "25       26               10732\n",
              "..      ...                 ...\n",
              "2         3               11089\n",
              "13       14               11117\n",
              "18       19               11127\n",
              "1         2               11156\n",
              "55       56               11189\n",
              "\n",
              "[80 rows x 2 columns]"
            ]
          },
          "metadata": {},
          "execution_count": 23
        }
      ]
    },
    {
      "cell_type": "code",
      "metadata": {
        "colab": {
          "base_uri": "https://localhost:8080/",
          "height": 417
        },
        "id": "4hTyf8547Q9s",
        "outputId": "294b3639-b438-456f-e03b-1293ffc3f0a4"
      },
      "source": [
        "#6M\n",
        "df_hist[df_hist['Quantidade Acc 6M'] > 0].groupby(['Produto'], as_index=False)['Quantidade Acc 6M'].count().sort_values(by=['Quantidade Acc 6M'])"
      ],
      "id": "4hTyf8547Q9s",
      "execution_count": 24,
      "outputs": [
        {
          "output_type": "execute_result",
          "data": {
            "text/html": [
              "<div>\n",
              "<style scoped>\n",
              "    .dataframe tbody tr th:only-of-type {\n",
              "        vertical-align: middle;\n",
              "    }\n",
              "\n",
              "    .dataframe tbody tr th {\n",
              "        vertical-align: top;\n",
              "    }\n",
              "\n",
              "    .dataframe thead th {\n",
              "        text-align: right;\n",
              "    }\n",
              "</style>\n",
              "<table border=\"1\" class=\"dataframe\">\n",
              "  <thead>\n",
              "    <tr style=\"text-align: right;\">\n",
              "      <th></th>\n",
              "      <th>Produto</th>\n",
              "      <th>Quantidade Acc 6M</th>\n",
              "    </tr>\n",
              "  </thead>\n",
              "  <tbody>\n",
              "    <tr>\n",
              "      <th>11</th>\n",
              "      <td>12</td>\n",
              "      <td>3978</td>\n",
              "    </tr>\n",
              "    <tr>\n",
              "      <th>46</th>\n",
              "      <td>47</td>\n",
              "      <td>4074</td>\n",
              "    </tr>\n",
              "    <tr>\n",
              "      <th>37</th>\n",
              "      <td>38</td>\n",
              "      <td>4077</td>\n",
              "    </tr>\n",
              "    <tr>\n",
              "      <th>27</th>\n",
              "      <td>28</td>\n",
              "      <td>4087</td>\n",
              "    </tr>\n",
              "    <tr>\n",
              "      <th>59</th>\n",
              "      <td>60</td>\n",
              "      <td>4113</td>\n",
              "    </tr>\n",
              "    <tr>\n",
              "      <th>...</th>\n",
              "      <td>...</td>\n",
              "      <td>...</td>\n",
              "    </tr>\n",
              "    <tr>\n",
              "      <th>36</th>\n",
              "      <td>37</td>\n",
              "      <td>4324</td>\n",
              "    </tr>\n",
              "    <tr>\n",
              "      <th>2</th>\n",
              "      <td>3</td>\n",
              "      <td>4327</td>\n",
              "    </tr>\n",
              "    <tr>\n",
              "      <th>18</th>\n",
              "      <td>19</td>\n",
              "      <td>4339</td>\n",
              "    </tr>\n",
              "    <tr>\n",
              "      <th>7</th>\n",
              "      <td>8</td>\n",
              "      <td>4352</td>\n",
              "    </tr>\n",
              "    <tr>\n",
              "      <th>1</th>\n",
              "      <td>2</td>\n",
              "      <td>4364</td>\n",
              "    </tr>\n",
              "  </tbody>\n",
              "</table>\n",
              "<p>80 rows × 2 columns</p>\n",
              "</div>"
            ],
            "text/plain": [
              "    Produto  Quantidade Acc 6M\n",
              "11       12               3978\n",
              "46       47               4074\n",
              "37       38               4077\n",
              "27       28               4087\n",
              "59       60               4113\n",
              "..      ...                ...\n",
              "36       37               4324\n",
              "2         3               4327\n",
              "18       19               4339\n",
              "7         8               4352\n",
              "1         2               4364\n",
              "\n",
              "[80 rows x 2 columns]"
            ]
          },
          "metadata": {},
          "execution_count": 24
        }
      ]
    },
    {
      "cell_type": "markdown",
      "metadata": {
        "id": "K7BY9CdB4mMe"
      },
      "source": [
        ""
      ],
      "id": "K7BY9CdB4mMe"
    }
  ]
}