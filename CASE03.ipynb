{
 "cells": [
  {
   "cell_type": "markdown",
   "id": "9b016ea6",
   "metadata": {},
   "source": [
    "## Introdução\n",
    "Case 3 - Avaliação Modelo NBO\n",
    "\n",
    "##### O objetivo deste trabalho é: \n",
    "\n",
    "Contar uma história que mostre se a recomendação do carrossel faz ou não sentido com base no histórico de compra do cliente.\n",
    "\n",
    "A idéia é aplicar princípios de validação da metodologia CRISP.\n",
    "\n",
    "Se você fosse um coordenador de DS, você deixaria este modelo ser implementado em produção?\n",
    "\n",
    "NBO -> \"Next Best Offer\"\n",
    "No dataset atual, é feito uma sugestão de 5 produtos e também traz o score de cada sugestão que é a probabilidade do consumidor comprar aquele produto.\n",
    "\n",
    "#### Resumo Aula\n",
    "\n",
    "- Aula 1: Criação dos grupos e introdução aos temas\n",
    "- Aula 2: Fazer as análises exploratórias básicas\n",
    "\n",
    "## Anotações do Professor\n",
    "- 12M faz sentido olhando para 6M?\n",
    "- Valores errados? Nulos? Zero?\n",
    "- Outliers\n",
    "- Distribuição dos produtos vendidos faz sentido?"
   ]
  },
  {
   "cell_type": "markdown",
   "id": "edafbe84",
   "metadata": {},
   "source": [
    "## Limpeza do Dataset"
   ]
  },
  {
   "cell_type": "code",
   "execution_count": 49,
   "id": "02e25c31",
   "metadata": {},
   "outputs": [],
   "source": [
    "import numpy as np\n",
    "import pandas as pd\n",
    "pd.set_option('display.float_format', lambda x: '%.3f' % x)"
   ]
  },
  {
   "cell_type": "code",
   "execution_count": 81,
   "id": "68649ea1",
   "metadata": {},
   "outputs": [],
   "source": [
    "df_hist = pd.read_csv('./data/CASE_03_Compras_Hist.csv', sep=';')\n",
    "df_carrossel = pd.read_csv('./data/CASE_03_NBO_Result.csv', sep=';')"
   ]
  },
  {
   "cell_type": "code",
   "execution_count": 82,
   "id": "dcbea23c",
   "metadata": {},
   "outputs": [
    {
     "data": {
      "text/plain": [
       "Consumidor            int64\n",
       "Produto               int64\n",
       "Quantidade Acc 12M    int64\n",
       "Quantidade Acc 6M     int64\n",
       "dtype: object"
      ]
     },
     "execution_count": 82,
     "metadata": {},
     "output_type": "execute_result"
    }
   ],
   "source": [
    "df_hist.dtypes"
   ]
  },
  {
   "cell_type": "code",
   "execution_count": 83,
   "id": "21a63dd4",
   "metadata": {},
   "outputs": [],
   "source": [
    "df_carrossel['Score NBO 1'] = df_carrossel['Score NBO 1'].str.replace(',', '.').astype(float)\n",
    "df_carrossel['Score NBO 2'] = df_carrossel['Score NBO 2'].str.replace(',', '.').astype(float)\n",
    "df_carrossel['Score NBO 3'] = df_carrossel['Score NBO 3'].str.replace(',', '.').astype(float)\n",
    "df_carrossel['Score NBO 4'] = df_carrossel['Score NBO 4'].str.replace(',', '.').astype(float)\n",
    "df_carrossel['Score NBO 5'] = df_carrossel['Score NBO 5'].str.replace(',', '.').astype(float)"
   ]
  },
  {
   "cell_type": "code",
   "execution_count": 84,
   "id": "c8a3185f",
   "metadata": {},
   "outputs": [
    {
     "data": {
      "text/plain": [
       "Consumidor       int64\n",
       "NBO 1            int64\n",
       "NBO 2            int64\n",
       "NBO 3            int64\n",
       "NBO 4            int64\n",
       "NBO 5            int64\n",
       "Score NBO 1    float64\n",
       "Score NBO 2    float64\n",
       "Score NBO 3    float64\n",
       "Score NBO 4    float64\n",
       "Score NBO 5    float64\n",
       "dtype: object"
      ]
     },
     "execution_count": 84,
     "metadata": {},
     "output_type": "execute_result"
    }
   ],
   "source": [
    "df_carrossel.dtypes"
   ]
  },
  {
   "cell_type": "code",
   "execution_count": 35,
   "id": "f03e98d1",
   "metadata": {},
   "outputs": [
    {
     "data": {
      "text/html": [
       "<div>\n",
       "<style scoped>\n",
       "    .dataframe tbody tr th:only-of-type {\n",
       "        vertical-align: middle;\n",
       "    }\n",
       "\n",
       "    .dataframe tbody tr th {\n",
       "        vertical-align: top;\n",
       "    }\n",
       "\n",
       "    .dataframe thead th {\n",
       "        text-align: right;\n",
       "    }\n",
       "</style>\n",
       "<table border=\"1\" class=\"dataframe\">\n",
       "  <thead>\n",
       "    <tr style=\"text-align: right;\">\n",
       "      <th></th>\n",
       "      <th>Consumidor</th>\n",
       "      <th>Produto</th>\n",
       "      <th>Quantidade Acc 12M</th>\n",
       "      <th>Quantidade Acc 6M</th>\n",
       "    </tr>\n",
       "  </thead>\n",
       "  <tbody>\n",
       "  </tbody>\n",
       "</table>\n",
       "</div>"
      ],
      "text/plain": [
       "Empty DataFrame\n",
       "Columns: [Consumidor, Produto, Quantidade Acc 12M, Quantidade Acc 6M]\n",
       "Index: []"
      ]
     },
     "execution_count": 35,
     "metadata": {},
     "output_type": "execute_result"
    }
   ],
   "source": [
    "#Valores Nulos\n",
    "df_hist[df_hist.isna().any(axis=1)]"
   ]
  },
  {
   "cell_type": "code",
   "execution_count": 50,
   "id": "e9d6f212",
   "metadata": {},
   "outputs": [
    {
     "data": {
      "text/html": [
       "<div>\n",
       "<style scoped>\n",
       "    .dataframe tbody tr th:only-of-type {\n",
       "        vertical-align: middle;\n",
       "    }\n",
       "\n",
       "    .dataframe tbody tr th {\n",
       "        vertical-align: top;\n",
       "    }\n",
       "\n",
       "    .dataframe thead th {\n",
       "        text-align: right;\n",
       "    }\n",
       "</style>\n",
       "<table border=\"1\" class=\"dataframe\">\n",
       "  <thead>\n",
       "    <tr style=\"text-align: right;\">\n",
       "      <th></th>\n",
       "      <th>Consumidor</th>\n",
       "      <th>NBO 1</th>\n",
       "      <th>NBO 2</th>\n",
       "      <th>NBO 3</th>\n",
       "      <th>NBO 4</th>\n",
       "      <th>NBO 5</th>\n",
       "      <th>Score NBO 1</th>\n",
       "      <th>Score NBO 2</th>\n",
       "      <th>Score NBO 3</th>\n",
       "      <th>Score NBO 4</th>\n",
       "      <th>Score NBO 5</th>\n",
       "    </tr>\n",
       "  </thead>\n",
       "  <tbody>\n",
       "  </tbody>\n",
       "</table>\n",
       "</div>"
      ],
      "text/plain": [
       "Empty DataFrame\n",
       "Columns: [Consumidor, NBO 1, NBO 2, NBO 3, NBO 4, NBO 5, Score NBO 1, Score NBO 2, Score NBO 3, Score NBO 4, Score NBO 5]\n",
       "Index: []"
      ]
     },
     "execution_count": 50,
     "metadata": {},
     "output_type": "execute_result"
    }
   ],
   "source": [
    "df_carrossel[df_carrossel.isna().any(axis=1)]"
   ]
  },
  {
   "cell_type": "code",
   "execution_count": 52,
   "id": "e84549c6",
   "metadata": {},
   "outputs": [
    {
     "data": {
      "text/html": [
       "<div>\n",
       "<style scoped>\n",
       "    .dataframe tbody tr th:only-of-type {\n",
       "        vertical-align: middle;\n",
       "    }\n",
       "\n",
       "    .dataframe tbody tr th {\n",
       "        vertical-align: top;\n",
       "    }\n",
       "\n",
       "    .dataframe thead th {\n",
       "        text-align: right;\n",
       "    }\n",
       "</style>\n",
       "<table border=\"1\" class=\"dataframe\">\n",
       "  <thead>\n",
       "    <tr style=\"text-align: right;\">\n",
       "      <th></th>\n",
       "      <th>Consumidor</th>\n",
       "      <th>Produto</th>\n",
       "      <th>Quantidade Acc 12M</th>\n",
       "      <th>Quantidade Acc 6M</th>\n",
       "    </tr>\n",
       "  </thead>\n",
       "  <tbody>\n",
       "  </tbody>\n",
       "</table>\n",
       "</div>"
      ],
      "text/plain": [
       "Empty DataFrame\n",
       "Columns: [Consumidor, Produto, Quantidade Acc 12M, Quantidade Acc 6M]\n",
       "Index: []"
      ]
     },
     "execution_count": 52,
     "metadata": {},
     "output_type": "execute_result"
    }
   ],
   "source": [
    "#Valores inconsistentes\n",
    "df_hist[df_hist['Quantidade Acc 12M'] < df_hist['Quantidade Acc 6M']]"
   ]
  },
  {
   "cell_type": "markdown",
   "id": "37b1b218",
   "metadata": {},
   "source": [
    "## Análise Exploratória"
   ]
  },
  {
   "cell_type": "code",
   "execution_count": 18,
   "id": "92356c9b",
   "metadata": {},
   "outputs": [
    {
     "data": {
      "text/html": [
       "<div>\n",
       "<style scoped>\n",
       "    .dataframe tbody tr th:only-of-type {\n",
       "        vertical-align: middle;\n",
       "    }\n",
       "\n",
       "    .dataframe tbody tr th {\n",
       "        vertical-align: top;\n",
       "    }\n",
       "\n",
       "    .dataframe thead th {\n",
       "        text-align: right;\n",
       "    }\n",
       "</style>\n",
       "<table border=\"1\" class=\"dataframe\">\n",
       "  <thead>\n",
       "    <tr style=\"text-align: right;\">\n",
       "      <th></th>\n",
       "      <th>Consumidor</th>\n",
       "      <th>Produto</th>\n",
       "      <th>Quantidade Acc 12M</th>\n",
       "      <th>Quantidade Acc 6M</th>\n",
       "    </tr>\n",
       "  </thead>\n",
       "  <tbody>\n",
       "    <tr>\n",
       "      <th>count</th>\n",
       "      <td>1048488.000</td>\n",
       "      <td>1048488.000</td>\n",
       "      <td>1048488.000</td>\n",
       "      <td>1048488.000</td>\n",
       "    </tr>\n",
       "    <tr>\n",
       "      <th>mean</th>\n",
       "      <td>9362.000</td>\n",
       "      <td>40.493</td>\n",
       "      <td>2.500</td>\n",
       "      <td>0.625</td>\n",
       "    </tr>\n",
       "    <tr>\n",
       "      <th>std</th>\n",
       "      <td>5404.867</td>\n",
       "      <td>23.082</td>\n",
       "      <td>1.708</td>\n",
       "      <td>1.099</td>\n",
       "    </tr>\n",
       "    <tr>\n",
       "      <th>min</th>\n",
       "      <td>1.000</td>\n",
       "      <td>1.000</td>\n",
       "      <td>0.000</td>\n",
       "      <td>0.000</td>\n",
       "    </tr>\n",
       "    <tr>\n",
       "      <th>25%</th>\n",
       "      <td>4681.000</td>\n",
       "      <td>21.000</td>\n",
       "      <td>1.000</td>\n",
       "      <td>0.000</td>\n",
       "    </tr>\n",
       "    <tr>\n",
       "      <th>50%</th>\n",
       "      <td>9362.000</td>\n",
       "      <td>41.000</td>\n",
       "      <td>2.000</td>\n",
       "      <td>0.000</td>\n",
       "    </tr>\n",
       "    <tr>\n",
       "      <th>75%</th>\n",
       "      <td>14043.000</td>\n",
       "      <td>60.000</td>\n",
       "      <td>4.000</td>\n",
       "      <td>1.000</td>\n",
       "    </tr>\n",
       "    <tr>\n",
       "      <th>max</th>\n",
       "      <td>18723.000</td>\n",
       "      <td>80.000</td>\n",
       "      <td>5.000</td>\n",
       "      <td>5.000</td>\n",
       "    </tr>\n",
       "  </tbody>\n",
       "</table>\n",
       "</div>"
      ],
      "text/plain": [
       "       Consumidor     Produto  Quantidade Acc 12M  Quantidade Acc 6M\n",
       "count 1048488.000 1048488.000         1048488.000        1048488.000\n",
       "mean     9362.000      40.493               2.500              0.625\n",
       "std      5404.867      23.082               1.708              1.099\n",
       "min         1.000       1.000               0.000              0.000\n",
       "25%      4681.000      21.000               1.000              0.000\n",
       "50%      9362.000      41.000               2.000              0.000\n",
       "75%     14043.000      60.000               4.000              1.000\n",
       "max     18723.000      80.000               5.000              5.000"
      ]
     },
     "execution_count": 18,
     "metadata": {},
     "output_type": "execute_result"
    }
   ],
   "source": [
    "#Analise Inicial - Histórico de Compras\n",
    "df_hist.describe()"
   ]
  },
  {
   "cell_type": "code",
   "execution_count": 20,
   "id": "1935d4c8",
   "metadata": {},
   "outputs": [
    {
     "data": {
      "text/html": [
       "<div>\n",
       "<style scoped>\n",
       "    .dataframe tbody tr th:only-of-type {\n",
       "        vertical-align: middle;\n",
       "    }\n",
       "\n",
       "    .dataframe tbody tr th {\n",
       "        vertical-align: top;\n",
       "    }\n",
       "\n",
       "    .dataframe thead th {\n",
       "        text-align: right;\n",
       "    }\n",
       "</style>\n",
       "<table border=\"1\" class=\"dataframe\">\n",
       "  <thead>\n",
       "    <tr style=\"text-align: right;\">\n",
       "      <th></th>\n",
       "      <th>Consumidor</th>\n",
       "      <th>Produto</th>\n",
       "      <th>Quantidade Acc 12M</th>\n",
       "      <th>Quantidade Acc 6M</th>\n",
       "    </tr>\n",
       "  </thead>\n",
       "  <tbody>\n",
       "    <tr>\n",
       "      <th>99724</th>\n",
       "      <td>1781</td>\n",
       "      <td>23</td>\n",
       "      <td>4</td>\n",
       "      <td>2</td>\n",
       "    </tr>\n",
       "    <tr>\n",
       "      <th>45775</th>\n",
       "      <td>818</td>\n",
       "      <td>48</td>\n",
       "      <td>3</td>\n",
       "      <td>0</td>\n",
       "    </tr>\n",
       "    <tr>\n",
       "      <th>42535</th>\n",
       "      <td>760</td>\n",
       "      <td>25</td>\n",
       "      <td>5</td>\n",
       "      <td>0</td>\n",
       "    </tr>\n",
       "    <tr>\n",
       "      <th>247871</th>\n",
       "      <td>4427</td>\n",
       "      <td>33</td>\n",
       "      <td>4</td>\n",
       "      <td>2</td>\n",
       "    </tr>\n",
       "    <tr>\n",
       "      <th>865074</th>\n",
       "      <td>15448</td>\n",
       "      <td>31</td>\n",
       "      <td>3</td>\n",
       "      <td>2</td>\n",
       "    </tr>\n",
       "  </tbody>\n",
       "</table>\n",
       "</div>"
      ],
      "text/plain": [
       "        Consumidor  Produto  Quantidade Acc 12M  Quantidade Acc 6M\n",
       "99724         1781       23                   4                  2\n",
       "45775          818       48                   3                  0\n",
       "42535          760       25                   5                  0\n",
       "247871        4427       33                   4                  2\n",
       "865074       15448       31                   3                  2"
      ]
     },
     "execution_count": 20,
     "metadata": {},
     "output_type": "execute_result"
    }
   ],
   "source": [
    "df_hist.sample(n=5)"
   ]
  },
  {
   "cell_type": "code",
   "execution_count": 32,
   "id": "6b92d4ed",
   "metadata": {},
   "outputs": [
    {
     "data": {
      "text/html": [
       "<div>\n",
       "<style scoped>\n",
       "    .dataframe tbody tr th:only-of-type {\n",
       "        vertical-align: middle;\n",
       "    }\n",
       "\n",
       "    .dataframe tbody tr th {\n",
       "        vertical-align: top;\n",
       "    }\n",
       "\n",
       "    .dataframe thead th {\n",
       "        text-align: right;\n",
       "    }\n",
       "</style>\n",
       "<table border=\"1\" class=\"dataframe\">\n",
       "  <thead>\n",
       "    <tr style=\"text-align: right;\">\n",
       "      <th></th>\n",
       "      <th>Consumidor</th>\n",
       "      <th>NBO 1</th>\n",
       "      <th>NBO 2</th>\n",
       "      <th>NBO 3</th>\n",
       "      <th>NBO 4</th>\n",
       "      <th>NBO 5</th>\n",
       "      <th>Score NBO 1</th>\n",
       "      <th>Score NBO 2</th>\n",
       "      <th>Score NBO 3</th>\n",
       "      <th>Score NBO 4</th>\n",
       "      <th>Score NBO 5</th>\n",
       "    </tr>\n",
       "  </thead>\n",
       "  <tbody>\n",
       "    <tr>\n",
       "      <th>count</th>\n",
       "      <td>18723.000</td>\n",
       "      <td>18723.000</td>\n",
       "      <td>18723.000</td>\n",
       "      <td>18723.000</td>\n",
       "      <td>18723.000</td>\n",
       "      <td>18723.000</td>\n",
       "      <td>18723.000</td>\n",
       "      <td>18723.000</td>\n",
       "      <td>18723.000</td>\n",
       "      <td>18723.000</td>\n",
       "      <td>18723.000</td>\n",
       "    </tr>\n",
       "    <tr>\n",
       "      <th>mean</th>\n",
       "      <td>9362.000</td>\n",
       "      <td>10.574</td>\n",
       "      <td>27.017</td>\n",
       "      <td>42.057</td>\n",
       "      <td>58.506</td>\n",
       "      <td>73.476</td>\n",
       "      <td>0.744</td>\n",
       "      <td>0.744</td>\n",
       "      <td>0.745</td>\n",
       "      <td>0.746</td>\n",
       "      <td>0.745</td>\n",
       "    </tr>\n",
       "    <tr>\n",
       "      <th>std</th>\n",
       "      <td>5405.009</td>\n",
       "      <td>5.778</td>\n",
       "      <td>3.741</td>\n",
       "      <td>4.918</td>\n",
       "      <td>4.625</td>\n",
       "      <td>4.025</td>\n",
       "      <td>0.139</td>\n",
       "      <td>0.139</td>\n",
       "      <td>0.138</td>\n",
       "      <td>0.138</td>\n",
       "      <td>0.139</td>\n",
       "    </tr>\n",
       "    <tr>\n",
       "      <th>min</th>\n",
       "      <td>1.000</td>\n",
       "      <td>1.000</td>\n",
       "      <td>21.000</td>\n",
       "      <td>34.000</td>\n",
       "      <td>51.000</td>\n",
       "      <td>67.000</td>\n",
       "      <td>0.510</td>\n",
       "      <td>0.510</td>\n",
       "      <td>0.510</td>\n",
       "      <td>0.510</td>\n",
       "      <td>0.510</td>\n",
       "    </tr>\n",
       "    <tr>\n",
       "      <th>25%</th>\n",
       "      <td>4681.500</td>\n",
       "      <td>6.000</td>\n",
       "      <td>24.000</td>\n",
       "      <td>38.000</td>\n",
       "      <td>55.000</td>\n",
       "      <td>70.000</td>\n",
       "      <td>0.620</td>\n",
       "      <td>0.620</td>\n",
       "      <td>0.630</td>\n",
       "      <td>0.630</td>\n",
       "      <td>0.620</td>\n",
       "    </tr>\n",
       "    <tr>\n",
       "      <th>50%</th>\n",
       "      <td>9362.000</td>\n",
       "      <td>11.000</td>\n",
       "      <td>27.000</td>\n",
       "      <td>42.000</td>\n",
       "      <td>58.000</td>\n",
       "      <td>73.000</td>\n",
       "      <td>0.740</td>\n",
       "      <td>0.740</td>\n",
       "      <td>0.750</td>\n",
       "      <td>0.750</td>\n",
       "      <td>0.740</td>\n",
       "    </tr>\n",
       "    <tr>\n",
       "      <th>75%</th>\n",
       "      <td>14042.500</td>\n",
       "      <td>16.000</td>\n",
       "      <td>30.000</td>\n",
       "      <td>46.000</td>\n",
       "      <td>63.000</td>\n",
       "      <td>77.000</td>\n",
       "      <td>0.870</td>\n",
       "      <td>0.870</td>\n",
       "      <td>0.860</td>\n",
       "      <td>0.870</td>\n",
       "      <td>0.870</td>\n",
       "    </tr>\n",
       "    <tr>\n",
       "      <th>max</th>\n",
       "      <td>18723.000</td>\n",
       "      <td>20.000</td>\n",
       "      <td>33.000</td>\n",
       "      <td>50.000</td>\n",
       "      <td>66.000</td>\n",
       "      <td>80.000</td>\n",
       "      <td>0.980</td>\n",
       "      <td>0.980</td>\n",
       "      <td>0.980</td>\n",
       "      <td>0.980</td>\n",
       "      <td>0.980</td>\n",
       "    </tr>\n",
       "  </tbody>\n",
       "</table>\n",
       "</div>"
      ],
      "text/plain": [
       "       Consumidor     NBO 1     NBO 2     NBO 3     NBO 4     NBO 5  \\\n",
       "count   18723.000 18723.000 18723.000 18723.000 18723.000 18723.000   \n",
       "mean     9362.000    10.574    27.017    42.057    58.506    73.476   \n",
       "std      5405.009     5.778     3.741     4.918     4.625     4.025   \n",
       "min         1.000     1.000    21.000    34.000    51.000    67.000   \n",
       "25%      4681.500     6.000    24.000    38.000    55.000    70.000   \n",
       "50%      9362.000    11.000    27.000    42.000    58.000    73.000   \n",
       "75%     14042.500    16.000    30.000    46.000    63.000    77.000   \n",
       "max     18723.000    20.000    33.000    50.000    66.000    80.000   \n",
       "\n",
       "       Score NBO 1  Score NBO 2  Score NBO 3  Score NBO 4  Score NBO 5  \n",
       "count    18723.000    18723.000    18723.000    18723.000    18723.000  \n",
       "mean         0.744        0.744        0.745        0.746        0.745  \n",
       "std          0.139        0.139        0.138        0.138        0.139  \n",
       "min          0.510        0.510        0.510        0.510        0.510  \n",
       "25%          0.620        0.620        0.630        0.630        0.620  \n",
       "50%          0.740        0.740        0.750        0.750        0.740  \n",
       "75%          0.870        0.870        0.860        0.870        0.870  \n",
       "max          0.980        0.980        0.980        0.980        0.980  "
      ]
     },
     "execution_count": 32,
     "metadata": {},
     "output_type": "execute_result"
    }
   ],
   "source": [
    "#Analise Inicial - Histórico de Recomendações\n",
    "df_carrossel.describe()"
   ]
  },
  {
   "cell_type": "code",
   "execution_count": 33,
   "id": "cdf9efd5",
   "metadata": {},
   "outputs": [
    {
     "data": {
      "text/html": [
       "<div>\n",
       "<style scoped>\n",
       "    .dataframe tbody tr th:only-of-type {\n",
       "        vertical-align: middle;\n",
       "    }\n",
       "\n",
       "    .dataframe tbody tr th {\n",
       "        vertical-align: top;\n",
       "    }\n",
       "\n",
       "    .dataframe thead th {\n",
       "        text-align: right;\n",
       "    }\n",
       "</style>\n",
       "<table border=\"1\" class=\"dataframe\">\n",
       "  <thead>\n",
       "    <tr style=\"text-align: right;\">\n",
       "      <th></th>\n",
       "      <th>Consumidor</th>\n",
       "      <th>NBO 1</th>\n",
       "      <th>NBO 2</th>\n",
       "      <th>NBO 3</th>\n",
       "      <th>NBO 4</th>\n",
       "      <th>NBO 5</th>\n",
       "      <th>Score NBO 1</th>\n",
       "      <th>Score NBO 2</th>\n",
       "      <th>Score NBO 3</th>\n",
       "      <th>Score NBO 4</th>\n",
       "      <th>Score NBO 5</th>\n",
       "    </tr>\n",
       "  </thead>\n",
       "  <tbody>\n",
       "    <tr>\n",
       "      <th>5433</th>\n",
       "      <td>5434</td>\n",
       "      <td>13</td>\n",
       "      <td>24</td>\n",
       "      <td>45</td>\n",
       "      <td>59</td>\n",
       "      <td>78</td>\n",
       "      <td>0.510</td>\n",
       "      <td>0.960</td>\n",
       "      <td>0.690</td>\n",
       "      <td>0.530</td>\n",
       "      <td>0.730</td>\n",
       "    </tr>\n",
       "    <tr>\n",
       "      <th>11973</th>\n",
       "      <td>11974</td>\n",
       "      <td>10</td>\n",
       "      <td>26</td>\n",
       "      <td>45</td>\n",
       "      <td>53</td>\n",
       "      <td>77</td>\n",
       "      <td>0.740</td>\n",
       "      <td>0.850</td>\n",
       "      <td>0.770</td>\n",
       "      <td>0.570</td>\n",
       "      <td>0.680</td>\n",
       "    </tr>\n",
       "    <tr>\n",
       "      <th>18257</th>\n",
       "      <td>18258</td>\n",
       "      <td>6</td>\n",
       "      <td>30</td>\n",
       "      <td>38</td>\n",
       "      <td>56</td>\n",
       "      <td>68</td>\n",
       "      <td>0.580</td>\n",
       "      <td>0.970</td>\n",
       "      <td>0.750</td>\n",
       "      <td>0.830</td>\n",
       "      <td>0.610</td>\n",
       "    </tr>\n",
       "    <tr>\n",
       "      <th>8618</th>\n",
       "      <td>8619</td>\n",
       "      <td>8</td>\n",
       "      <td>22</td>\n",
       "      <td>43</td>\n",
       "      <td>60</td>\n",
       "      <td>80</td>\n",
       "      <td>0.580</td>\n",
       "      <td>0.740</td>\n",
       "      <td>0.870</td>\n",
       "      <td>0.730</td>\n",
       "      <td>0.560</td>\n",
       "    </tr>\n",
       "    <tr>\n",
       "      <th>4673</th>\n",
       "      <td>4674</td>\n",
       "      <td>19</td>\n",
       "      <td>24</td>\n",
       "      <td>41</td>\n",
       "      <td>61</td>\n",
       "      <td>74</td>\n",
       "      <td>0.960</td>\n",
       "      <td>0.880</td>\n",
       "      <td>0.870</td>\n",
       "      <td>0.970</td>\n",
       "      <td>0.630</td>\n",
       "    </tr>\n",
       "  </tbody>\n",
       "</table>\n",
       "</div>"
      ],
      "text/plain": [
       "       Consumidor  NBO 1  NBO 2  NBO 3  NBO 4  NBO 5  Score NBO 1  \\\n",
       "5433         5434     13     24     45     59     78        0.510   \n",
       "11973       11974     10     26     45     53     77        0.740   \n",
       "18257       18258      6     30     38     56     68        0.580   \n",
       "8618         8619      8     22     43     60     80        0.580   \n",
       "4673         4674     19     24     41     61     74        0.960   \n",
       "\n",
       "       Score NBO 2  Score NBO 3  Score NBO 4  Score NBO 5  \n",
       "5433         0.960        0.690        0.530        0.730  \n",
       "11973        0.850        0.770        0.570        0.680  \n",
       "18257        0.970        0.750        0.830        0.610  \n",
       "8618         0.740        0.870        0.730        0.560  \n",
       "4673         0.880        0.870        0.970        0.630  "
      ]
     },
     "execution_count": 33,
     "metadata": {},
     "output_type": "execute_result"
    }
   ],
   "source": [
    "df_carrossel.sample(n=5)"
   ]
  },
  {
   "cell_type": "code",
   "execution_count": 14,
   "id": "ecc6f436",
   "metadata": {},
   "outputs": [
    {
     "data": {
      "text/plain": [
       "56    13444\n",
       "19    13387\n",
       "3     13360\n",
       "14    13291\n",
       "76    13284\n",
       "Name: Produto, dtype: int64"
      ]
     },
     "execution_count": 14,
     "metadata": {},
     "output_type": "execute_result"
    }
   ],
   "source": [
    "#TOP 5 Produtos vendidos na base histórica\n",
    "df_hist_top5 = df_hist['Produto'].value_counts().sort_values(ascending=False).head(5)\n",
    "df_hist_top5"
   ]
  },
  {
   "cell_type": "code",
   "execution_count": 42,
   "id": "ae3b0f5f",
   "metadata": {},
   "outputs": [
    {
     "data": {
      "text/plain": [
       "13    12845\n",
       "47    12847\n",
       "12    12873\n",
       "26    12885\n",
       "30    12907\n",
       "Name: Produto, dtype: int64"
      ]
     },
     "execution_count": 42,
     "metadata": {},
     "output_type": "execute_result"
    }
   ],
   "source": [
    "#LOWEST 5 Produtos vendidos na base histórica\n",
    "df_hist_lowest5 = df_hist['Produto'].value_counts().sort_values(ascending=True).head(5)\n",
    "df_hist_lowest5"
   ]
  },
  {
   "cell_type": "code",
   "execution_count": 47,
   "id": "a65357ee",
   "metadata": {},
   "outputs": [
    {
     "data": {
      "text/plain": [
       "31    1476\n",
       "27    1471\n",
       "22    1463\n",
       "32    1463\n",
       "24    1460\n",
       "dtype: int64"
      ]
     },
     "execution_count": 47,
     "metadata": {},
     "output_type": "execute_result"
    }
   ],
   "source": [
    "#TOP 5 Produtos Mais Sugeridos no carrossel\n",
    "a = df_carossel['NBO 1']\n",
    "b = df_carossel['NBO 2']\n",
    "c = df_carossel['NBO 3']\n",
    "d = df_carossel['NBO 4']\n",
    "e = df_carossel['NBO 5']\n",
    "\n",
    "df_carrossel_top5 = pd.concat([a, b, c, d, e])\n",
    "df_carrossel_top5 = df_carrossel_top5.value_counts().sort_values(ascending=False).head(5)\n",
    "df_carrossel_top5"
   ]
  },
  {
   "cell_type": "code",
   "execution_count": 48,
   "id": "9e5c43ac",
   "metadata": {},
   "outputs": [
    {
     "data": {
      "text/plain": [
       "14    875\n",
       "3     891\n",
       "8     899\n",
       "7     904\n",
       "2     907\n",
       "dtype: int64"
      ]
     },
     "execution_count": 48,
     "metadata": {},
     "output_type": "execute_result"
    }
   ],
   "source": [
    "#LOWEST 5 Produtos Menos Sugeridos no carrossel\n",
    "df_carrossel_lowest5 = pd.concat([a, b, c, d, e])\n",
    "df_carrossel_lowest5 = df_carrossel_lowest5.value_counts().sort_values(ascending=True).head(5)\n",
    "df_carrossel_lowest5"
   ]
  },
  {
   "cell_type": "code",
   "execution_count": 59,
   "id": "327745fa",
   "metadata": {},
   "outputs": [
    {
     "data": {
      "text/plain": [
       "1008     33\n",
       "11142    31\n",
       "12681    31\n",
       "11653    31\n",
       "4265     31\n",
       "Name: Consumidor, dtype: int64"
      ]
     },
     "execution_count": 59,
     "metadata": {},
     "output_type": "execute_result"
    }
   ],
   "source": [
    "#TOP 5 Consumidores (com base no numero de compras na base histórica) 6M\n",
    "df_hist_top5con6M = df_hist[df_hist['Quantidade Acc 6M'] > 0]\n",
    "df_hist_top5con6M = df_hist_top5con6M['Consumidor'].value_counts().sort_values(ascending=False).head(5)\n",
    "df_hist_top5con6M\n",
    "\n",
    "# Quantidade Acc 12M \tQuantidade Acc 6M"
   ]
  },
  {
   "cell_type": "code",
   "execution_count": 60,
   "id": "6082eb9d",
   "metadata": {},
   "outputs": [
    {
     "data": {
      "text/plain": [
       "9406     56\n",
       "5686     55\n",
       "7507     55\n",
       "15623    55\n",
       "13090    55\n",
       "Name: Consumidor, dtype: int64"
      ]
     },
     "execution_count": 60,
     "metadata": {},
     "output_type": "execute_result"
    }
   ],
   "source": [
    "#TOP 5 Consumidores (com base no numero de compras na base histórica) 12M\n",
    "df_hist_top5con12M = df_hist[df_hist['Quantidade Acc 12M'] > 0]\n",
    "df_hist_top5con12M = df_hist_top5con12M['Consumidor'].value_counts().sort_values(ascending=False).head(5)\n",
    "df_hist_top5con12M"
   ]
  },
  {
   "cell_type": "code",
   "execution_count": 62,
   "id": "245e1cad",
   "metadata": {},
   "outputs": [
    {
     "data": {
      "text/html": [
       "<div>\n",
       "<style scoped>\n",
       "    .dataframe tbody tr th:only-of-type {\n",
       "        vertical-align: middle;\n",
       "    }\n",
       "\n",
       "    .dataframe tbody tr th {\n",
       "        vertical-align: top;\n",
       "    }\n",
       "\n",
       "    .dataframe thead th {\n",
       "        text-align: right;\n",
       "    }\n",
       "</style>\n",
       "<table border=\"1\" class=\"dataframe\">\n",
       "  <thead>\n",
       "    <tr style=\"text-align: right;\">\n",
       "      <th></th>\n",
       "      <th>Consumidor</th>\n",
       "      <th>NBO 1</th>\n",
       "      <th>NBO 2</th>\n",
       "      <th>NBO 3</th>\n",
       "      <th>NBO 4</th>\n",
       "      <th>NBO 5</th>\n",
       "      <th>Score NBO 1</th>\n",
       "      <th>Score NBO 2</th>\n",
       "      <th>Score NBO 3</th>\n",
       "      <th>Score NBO 4</th>\n",
       "      <th>Score NBO 5</th>\n",
       "    </tr>\n",
       "  </thead>\n",
       "  <tbody>\n",
       "    <tr>\n",
       "      <th>0</th>\n",
       "      <td>33</td>\n",
       "      <td>10</td>\n",
       "      <td>22</td>\n",
       "      <td>48</td>\n",
       "      <td>55</td>\n",
       "      <td>75</td>\n",
       "      <td>0.960</td>\n",
       "      <td>0.670</td>\n",
       "      <td>0.840</td>\n",
       "      <td>0.880</td>\n",
       "      <td>0.560</td>\n",
       "    </tr>\n",
       "    <tr>\n",
       "      <th>1</th>\n",
       "      <td>31</td>\n",
       "      <td>11</td>\n",
       "      <td>23</td>\n",
       "      <td>38</td>\n",
       "      <td>63</td>\n",
       "      <td>75</td>\n",
       "      <td>0.510</td>\n",
       "      <td>0.510</td>\n",
       "      <td>0.880</td>\n",
       "      <td>0.750</td>\n",
       "      <td>0.640</td>\n",
       "    </tr>\n",
       "    <tr>\n",
       "      <th>2</th>\n",
       "      <td>31</td>\n",
       "      <td>11</td>\n",
       "      <td>23</td>\n",
       "      <td>38</td>\n",
       "      <td>63</td>\n",
       "      <td>75</td>\n",
       "      <td>0.510</td>\n",
       "      <td>0.510</td>\n",
       "      <td>0.880</td>\n",
       "      <td>0.750</td>\n",
       "      <td>0.640</td>\n",
       "    </tr>\n",
       "    <tr>\n",
       "      <th>3</th>\n",
       "      <td>31</td>\n",
       "      <td>11</td>\n",
       "      <td>23</td>\n",
       "      <td>38</td>\n",
       "      <td>63</td>\n",
       "      <td>75</td>\n",
       "      <td>0.510</td>\n",
       "      <td>0.510</td>\n",
       "      <td>0.880</td>\n",
       "      <td>0.750</td>\n",
       "      <td>0.640</td>\n",
       "    </tr>\n",
       "    <tr>\n",
       "      <th>4</th>\n",
       "      <td>31</td>\n",
       "      <td>11</td>\n",
       "      <td>23</td>\n",
       "      <td>38</td>\n",
       "      <td>63</td>\n",
       "      <td>75</td>\n",
       "      <td>0.510</td>\n",
       "      <td>0.510</td>\n",
       "      <td>0.880</td>\n",
       "      <td>0.750</td>\n",
       "      <td>0.640</td>\n",
       "    </tr>\n",
       "  </tbody>\n",
       "</table>\n",
       "</div>"
      ],
      "text/plain": [
       "   Consumidor  NBO 1  NBO 2  NBO 3  NBO 4  NBO 5  Score NBO 1  Score NBO 2  \\\n",
       "0          33     10     22     48     55     75        0.960        0.670   \n",
       "1          31     11     23     38     63     75        0.510        0.510   \n",
       "2          31     11     23     38     63     75        0.510        0.510   \n",
       "3          31     11     23     38     63     75        0.510        0.510   \n",
       "4          31     11     23     38     63     75        0.510        0.510   \n",
       "\n",
       "   Score NBO 3  Score NBO 4  Score NBO 5  \n",
       "0        0.840        0.880        0.560  \n",
       "1        0.880        0.750        0.640  \n",
       "2        0.880        0.750        0.640  \n",
       "3        0.880        0.750        0.640  \n",
       "4        0.880        0.750        0.640  "
      ]
     },
     "execution_count": 62,
     "metadata": {},
     "output_type": "execute_result"
    }
   ],
   "source": [
    "#Trazer o NBO do TOP 5 Consumidores 6M\n",
    "df_hist_top5con6M = pd.merge(df_hist_top5con6M, df_carrossel, how='inner', on=[\"Consumidor\", \"Consumidor\"])\n",
    "df_hist_top5con6M"
   ]
  },
  {
   "cell_type": "code",
   "execution_count": 63,
   "id": "a2870fc5",
   "metadata": {},
   "outputs": [
    {
     "data": {
      "text/html": [
       "<div>\n",
       "<style scoped>\n",
       "    .dataframe tbody tr th:only-of-type {\n",
       "        vertical-align: middle;\n",
       "    }\n",
       "\n",
       "    .dataframe tbody tr th {\n",
       "        vertical-align: top;\n",
       "    }\n",
       "\n",
       "    .dataframe thead th {\n",
       "        text-align: right;\n",
       "    }\n",
       "</style>\n",
       "<table border=\"1\" class=\"dataframe\">\n",
       "  <thead>\n",
       "    <tr style=\"text-align: right;\">\n",
       "      <th></th>\n",
       "      <th>Consumidor</th>\n",
       "      <th>NBO 1</th>\n",
       "      <th>NBO 2</th>\n",
       "      <th>NBO 3</th>\n",
       "      <th>NBO 4</th>\n",
       "      <th>NBO 5</th>\n",
       "      <th>Score NBO 1</th>\n",
       "      <th>Score NBO 2</th>\n",
       "      <th>Score NBO 3</th>\n",
       "      <th>Score NBO 4</th>\n",
       "      <th>Score NBO 5</th>\n",
       "    </tr>\n",
       "  </thead>\n",
       "  <tbody>\n",
       "    <tr>\n",
       "      <th>0</th>\n",
       "      <td>56</td>\n",
       "      <td>9</td>\n",
       "      <td>31</td>\n",
       "      <td>45</td>\n",
       "      <td>54</td>\n",
       "      <td>77</td>\n",
       "      <td>0.530</td>\n",
       "      <td>0.650</td>\n",
       "      <td>0.870</td>\n",
       "      <td>0.530</td>\n",
       "      <td>0.930</td>\n",
       "    </tr>\n",
       "    <tr>\n",
       "      <th>1</th>\n",
       "      <td>55</td>\n",
       "      <td>4</td>\n",
       "      <td>28</td>\n",
       "      <td>34</td>\n",
       "      <td>55</td>\n",
       "      <td>74</td>\n",
       "      <td>0.540</td>\n",
       "      <td>0.630</td>\n",
       "      <td>0.900</td>\n",
       "      <td>0.950</td>\n",
       "      <td>0.540</td>\n",
       "    </tr>\n",
       "    <tr>\n",
       "      <th>2</th>\n",
       "      <td>55</td>\n",
       "      <td>4</td>\n",
       "      <td>28</td>\n",
       "      <td>34</td>\n",
       "      <td>55</td>\n",
       "      <td>74</td>\n",
       "      <td>0.540</td>\n",
       "      <td>0.630</td>\n",
       "      <td>0.900</td>\n",
       "      <td>0.950</td>\n",
       "      <td>0.540</td>\n",
       "    </tr>\n",
       "    <tr>\n",
       "      <th>3</th>\n",
       "      <td>55</td>\n",
       "      <td>4</td>\n",
       "      <td>28</td>\n",
       "      <td>34</td>\n",
       "      <td>55</td>\n",
       "      <td>74</td>\n",
       "      <td>0.540</td>\n",
       "      <td>0.630</td>\n",
       "      <td>0.900</td>\n",
       "      <td>0.950</td>\n",
       "      <td>0.540</td>\n",
       "    </tr>\n",
       "    <tr>\n",
       "      <th>4</th>\n",
       "      <td>55</td>\n",
       "      <td>4</td>\n",
       "      <td>28</td>\n",
       "      <td>34</td>\n",
       "      <td>55</td>\n",
       "      <td>74</td>\n",
       "      <td>0.540</td>\n",
       "      <td>0.630</td>\n",
       "      <td>0.900</td>\n",
       "      <td>0.950</td>\n",
       "      <td>0.540</td>\n",
       "    </tr>\n",
       "  </tbody>\n",
       "</table>\n",
       "</div>"
      ],
      "text/plain": [
       "   Consumidor  NBO 1  NBO 2  NBO 3  NBO 4  NBO 5  Score NBO 1  Score NBO 2  \\\n",
       "0          56      9     31     45     54     77        0.530        0.650   \n",
       "1          55      4     28     34     55     74        0.540        0.630   \n",
       "2          55      4     28     34     55     74        0.540        0.630   \n",
       "3          55      4     28     34     55     74        0.540        0.630   \n",
       "4          55      4     28     34     55     74        0.540        0.630   \n",
       "\n",
       "   Score NBO 3  Score NBO 4  Score NBO 5  \n",
       "0        0.870        0.530        0.930  \n",
       "1        0.900        0.950        0.540  \n",
       "2        0.900        0.950        0.540  \n",
       "3        0.900        0.950        0.540  \n",
       "4        0.900        0.950        0.540  "
      ]
     },
     "execution_count": 63,
     "metadata": {},
     "output_type": "execute_result"
    }
   ],
   "source": [
    "#Trazer o NBO do TOP 5 Consumidores 12M\n",
    "df_hist_top5con12M = pd.merge(df_hist_top5con12M, df_carrossel, how='inner', on=[\"Consumidor\", \"Consumidor\"])\n",
    "df_hist_top5con12M"
   ]
  },
  {
   "cell_type": "markdown",
   "id": "92d3751e",
   "metadata": {},
   "source": [
    "#### REMARK: Qual a lógica por traz da recomendação dos 5 produtos do carrossel?\n",
    "Cada NBO [1 ao 5] pode sugerir apenas um range de produtos como é demonstrado a seguir\n",
    "\n",
    "=> Isto é ruim pois caso o cliente tenha um historico de compras somente para produtos da faixa (67 ao 80), os outros NBOs ficariam mal utilizados"
   ]
  },
  {
   "cell_type": "code",
   "execution_count": 68,
   "id": "f01cc611",
   "metadata": {},
   "outputs": [
    {
     "data": {
      "text/plain": [
       "count   18723.000\n",
       "mean       10.574\n",
       "std         5.778\n",
       "min         1.000\n",
       "25%         6.000\n",
       "50%        11.000\n",
       "75%        16.000\n",
       "max        20.000\n",
       "Name: NBO 1, dtype: float64"
      ]
     },
     "execution_count": 68,
     "metadata": {},
     "output_type": "execute_result"
    }
   ],
   "source": [
    "df_carrossel['NBO 1'].describe()   # Produto 1  ao 20"
   ]
  },
  {
   "cell_type": "code",
   "execution_count": 69,
   "id": "adf09567",
   "metadata": {},
   "outputs": [
    {
     "data": {
      "text/plain": [
       "count   18723.000\n",
       "mean       27.017\n",
       "std         3.741\n",
       "min        21.000\n",
       "25%        24.000\n",
       "50%        27.000\n",
       "75%        30.000\n",
       "max        33.000\n",
       "Name: NBO 2, dtype: float64"
      ]
     },
     "execution_count": 69,
     "metadata": {},
     "output_type": "execute_result"
    }
   ],
   "source": [
    "df_carrossel['NBO 2'].describe()    # Produto 21 ao 33"
   ]
  },
  {
   "cell_type": "code",
   "execution_count": 70,
   "id": "7e518c7f",
   "metadata": {},
   "outputs": [
    {
     "data": {
      "text/plain": [
       "count   18723.000\n",
       "mean       42.057\n",
       "std         4.918\n",
       "min        34.000\n",
       "25%        38.000\n",
       "50%        42.000\n",
       "75%        46.000\n",
       "max        50.000\n",
       "Name: NBO 3, dtype: float64"
      ]
     },
     "execution_count": 70,
     "metadata": {},
     "output_type": "execute_result"
    }
   ],
   "source": [
    "df_carrossel['NBO 3'].describe()    # Produto 34 ao 50"
   ]
  },
  {
   "cell_type": "code",
   "execution_count": 71,
   "id": "3f6b726b",
   "metadata": {},
   "outputs": [
    {
     "data": {
      "text/plain": [
       "count   18723.000\n",
       "mean       58.506\n",
       "std         4.625\n",
       "min        51.000\n",
       "25%        55.000\n",
       "50%        58.000\n",
       "75%        63.000\n",
       "max        66.000\n",
       "Name: NBO 4, dtype: float64"
      ]
     },
     "execution_count": 71,
     "metadata": {},
     "output_type": "execute_result"
    }
   ],
   "source": [
    "df_carrossel['NBO 4'].describe()    # Produto 51 ao 66"
   ]
  },
  {
   "cell_type": "code",
   "execution_count": 72,
   "id": "1d6e339c",
   "metadata": {},
   "outputs": [
    {
     "data": {
      "text/plain": [
       "count   18723.000\n",
       "mean       73.476\n",
       "std         4.025\n",
       "min        67.000\n",
       "25%        70.000\n",
       "50%        73.000\n",
       "75%        77.000\n",
       "max        80.000\n",
       "Name: NBO 5, dtype: float64"
      ]
     },
     "execution_count": 72,
     "metadata": {},
     "output_type": "execute_result"
    }
   ],
   "source": [
    "df_carrossel['NBO 5'].describe()    # Produto 67 ao 80"
   ]
  },
  {
   "cell_type": "markdown",
   "id": "d800388a",
   "metadata": {},
   "source": [
    "#### REMARK: Quantas variações de recomendações foram feitas?\n"
   ]
  },
  {
   "cell_type": "code",
   "execution_count": 96,
   "id": "6e9f9dee",
   "metadata": {},
   "outputs": [
    {
     "data": {
      "text/plain": [
       "990425376570    3\n",
       "991322466167    2\n",
       "991628375475    2\n",
       "990122356372    2\n",
       "991729416078    2\n",
       "               ..\n",
       "990421356674    1\n",
       "991031456479    1\n",
       "991523355668    1\n",
       "990423496072    1\n",
       "991127425669    1\n",
       "Name: ConjuntoID, Length: 18562, dtype: int64"
      ]
     },
     "execution_count": 96,
     "metadata": {},
     "output_type": "execute_result"
    }
   ],
   "source": [
    "def left(s, amount):\n",
    "    return s[:amount]\n",
    "\n",
    "def right(s, amount):\n",
    "    return s[-amount:]\n",
    "\n",
    "def mid(s, offset, amount):\n",
    "    return s[offset:offset+amount]\n",
    "\n",
    "\n",
    "df_carrossel['ConjuntoID'] = 99*(100**5) + (df_carrossel['NBO 1']*(100**4)) + (df_carrossel['NBO 2']*(100**3)) + (df_carrossel['NBO 3']*(100**2)) + (df_carrossel['NBO 4']*(100**1)) + (df_carrossel['NBO 5']*(100**0))\n",
    "df_carrossel['ConjuntoID'].value_counts().sort_values(ascending=False)\n"
   ]
  },
  {
   "cell_type": "code",
   "execution_count": null,
   "id": "6f0cf9e1",
   "metadata": {},
   "outputs": [],
   "source": []
  }
 ],
 "metadata": {
  "kernelspec": {
   "display_name": "Python 3 (ipykernel)",
   "language": "python",
   "name": "python3"
  },
  "language_info": {
   "codemirror_mode": {
    "name": "ipython",
    "version": 3
   },
   "file_extension": ".py",
   "mimetype": "text/x-python",
   "name": "python",
   "nbconvert_exporter": "python",
   "pygments_lexer": "ipython3",
   "version": "3.8.11"
  }
 },
 "nbformat": 4,
 "nbformat_minor": 5
}
