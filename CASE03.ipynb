{
  "nbformat": 4,
  "nbformat_minor": 5,
  "metadata": {
    "kernelspec": {
      "display_name": "Python 3 (ipykernel)",
      "language": "python",
      "name": "python3"
    },
    "language_info": {
      "codemirror_mode": {
        "name": "ipython",
        "version": 3
      },
      "file_extension": ".py",
      "mimetype": "text/x-python",
      "name": "python",
      "nbconvert_exporter": "python",
      "pygments_lexer": "ipython3",
      "version": "3.8.11"
    },
    "colab": {
      "name": "CASE03.ipynb",
      "provenance": [],
      "include_colab_link": true
    }
  },
  "cells": [
    {
      "cell_type": "markdown",
      "metadata": {
        "id": "view-in-github",
        "colab_type": "text"
      },
      "source": [
        "<a href=\"https://colab.research.google.com/github/melchiadesblanco/CID_UX4DS/blob/main/CASE03.ipynb\" target=\"_parent\"><img src=\"https://colab.research.google.com/assets/colab-badge.svg\" alt=\"Open In Colab\"/></a>"
      ]
    },
    {
      "cell_type": "markdown",
      "metadata": {
        "id": "9b016ea6"
      },
      "source": [
        "# Introdução\n",
        "Case 3 - Avaliação Modelo NBO\n",
        "\n",
        "#### O objetivo deste trabalho é: \n",
        "\n",
        "Contar uma história que mostre se a recomendação do carrossel faz ou não sentido com base no histórico de compra do cliente.\n",
        "\n",
        "A idéia é aplicar princípios de validação da metodologia CRISP.\n",
        "\n",
        "Se você fosse um coordenador de DS, você deixaria este modelo ser implementado em produção?\n",
        "\n",
        "NBO -> \"Next Best Offer\"\n",
        "No dataset atual, é feito uma sugestão de 5 produtos e também traz o score de cada sugestão que é a probabilidade do consumidor comprar aquele produto.\n",
        "\n",
        "#### Resumo Aula\n",
        "\n",
        "- Aula 1: Criação dos grupos e introdução aos temas\n",
        "- Aula 2: Fazer as análises exploratórias básicas\n",
        "\n",
        "# Anotações do Professor\n",
        "- 12M faz sentido olhando para 6M?\n",
        "- Valores errados? Nulos? Zero?\n",
        "- Outliers\n",
        "- Distribuição dos produtos vendidos faz sentido?\n",
        "\n",
        "# Problemas Encontrados\n",
        "1. As recomendações do carrosel utilizam um range de sugestões para cada NBO, o que pode tornar alguns NBO mal utilizados.\n",
        "\n",
        "- NBO 1 -> Produto 1  ao 20\n",
        "- NBO 2 -> Produto 21 ao 33\n",
        "- NBO 3 -> Produto 34 ao 50\n",
        "- NBO 4 -> Produto 51 ao 66\n",
        "- NBO 5 -> Produto 67 ao 80\n",
        "\n",
        "2. Foi observado que existe uma grande quantidade de recomendações unicas de NBOs, ou seja, que não são recomendadas para outros consumidores com os mesmos valores de NBO 1-5.\n",
        "- Isto pode significar que o modelo pode estar com overfiting"
      ],
      "id": "9b016ea6"
    },
    {
      "cell_type": "markdown",
      "metadata": {
        "id": "edafbe84"
      },
      "source": [
        "## Limpeza do Dataset"
      ],
      "id": "edafbe84"
    },
    {
      "cell_type": "code",
      "metadata": {
        "id": "02e25c31"
      },
      "source": [
        "import numpy as np\n",
        "import pandas as pd\n",
        "pd.set_option('display.float_format', lambda x: '%.3f' % x)"
      ],
      "id": "02e25c31",
      "execution_count": 7,
      "outputs": []
    },
    {
      "cell_type": "code",
      "metadata": {
        "id": "68649ea1"
      },
      "source": [
        "#Rodar no Jupyter Local\n",
        "# df_hist = pd.read_csv('./data/CASE_03_Compras_Hist.csv', sep=';')\n",
        "# df_carrossel = pd.read_csv('./data/CASE_03_NBO_Result.csv', sep=';')\n",
        "\n",
        "#Rodar no Google Colab\n",
        "df_hist = pd.read_csv('/content/CASE_03_Compras_Hist.csv', sep=';')\n",
        "df_carrossel = pd.read_csv('/content/CASE_03_NBO_Result.csv', sep=';')"
      ],
      "id": "68649ea1",
      "execution_count": 17,
      "outputs": []
    },
    {
      "cell_type": "code",
      "metadata": {
        "colab": {
          "base_uri": "https://localhost:8080/"
        },
        "id": "dcbea23c",
        "outputId": "bd396ccf-534b-462e-aa61-ca85c502fdee"
      },
      "source": [
        "df_hist.dtypes"
      ],
      "id": "dcbea23c",
      "execution_count": 15,
      "outputs": [
        {
          "output_type": "execute_result",
          "data": {
            "text/plain": [
              "Consumidor            int64\n",
              "Produto               int64\n",
              "Quantidade Acc 12M    int64\n",
              "Quantidade Acc 6M     int64\n",
              "dtype: object"
            ]
          },
          "metadata": {},
          "execution_count": 15
        }
      ]
    },
    {
      "cell_type": "code",
      "metadata": {
        "id": "21a63dd4"
      },
      "source": [
        "df_carrossel['Score NBO 1'] = df_carrossel['Score NBO 1'].str.replace(',', '.').astype(float)\n",
        "df_carrossel['Score NBO 2'] = df_carrossel['Score NBO 2'].str.replace(',', '.').astype(float)\n",
        "df_carrossel['Score NBO 3'] = df_carrossel['Score NBO 3'].str.replace(',', '.').astype(float)\n",
        "df_carrossel['Score NBO 4'] = df_carrossel['Score NBO 4'].str.replace(',', '.').astype(float)\n",
        "df_carrossel['Score NBO 5'] = df_carrossel['Score NBO 5'].str.replace(',', '.').astype(float)"
      ],
      "id": "21a63dd4",
      "execution_count": 18,
      "outputs": []
    },
    {
      "cell_type": "code",
      "metadata": {
        "colab": {
          "base_uri": "https://localhost:8080/"
        },
        "id": "c8a3185f",
        "outputId": "f8d85013-1f15-43e3-c26f-51103473c1c9"
      },
      "source": [
        "df_carrossel.dtypes"
      ],
      "id": "c8a3185f",
      "execution_count": 19,
      "outputs": [
        {
          "output_type": "execute_result",
          "data": {
            "text/plain": [
              "Consumidor       int64\n",
              "NBO 1            int64\n",
              "NBO 2            int64\n",
              "NBO 3            int64\n",
              "NBO 4            int64\n",
              "NBO 5            int64\n",
              "Score NBO 1    float64\n",
              "Score NBO 2    float64\n",
              "Score NBO 3    float64\n",
              "Score NBO 4    float64\n",
              "Score NBO 5    float64\n",
              "dtype: object"
            ]
          },
          "metadata": {},
          "execution_count": 19
        }
      ]
    },
    {
      "cell_type": "code",
      "metadata": {
        "colab": {
          "base_uri": "https://localhost:8080/",
          "height": 48
        },
        "id": "f03e98d1",
        "outputId": "e147ee76-002f-407a-f05e-d4c820ab4e4c"
      },
      "source": [
        "#Valores Nulos\n",
        "df_hist[df_hist.isna().any(axis=1)]"
      ],
      "id": "f03e98d1",
      "execution_count": 21,
      "outputs": [
        {
          "output_type": "execute_result",
          "data": {
            "text/html": [
              "<div>\n",
              "<style scoped>\n",
              "    .dataframe tbody tr th:only-of-type {\n",
              "        vertical-align: middle;\n",
              "    }\n",
              "\n",
              "    .dataframe tbody tr th {\n",
              "        vertical-align: top;\n",
              "    }\n",
              "\n",
              "    .dataframe thead th {\n",
              "        text-align: right;\n",
              "    }\n",
              "</style>\n",
              "<table border=\"1\" class=\"dataframe\">\n",
              "  <thead>\n",
              "    <tr style=\"text-align: right;\">\n",
              "      <th></th>\n",
              "      <th>Consumidor</th>\n",
              "      <th>Produto</th>\n",
              "      <th>Quantidade Acc 12M</th>\n",
              "      <th>Quantidade Acc 6M</th>\n",
              "    </tr>\n",
              "  </thead>\n",
              "  <tbody>\n",
              "  </tbody>\n",
              "</table>\n",
              "</div>"
            ],
            "text/plain": [
              "Empty DataFrame\n",
              "Columns: [Consumidor, Produto, Quantidade Acc 12M, Quantidade Acc 6M]\n",
              "Index: []"
            ]
          },
          "metadata": {},
          "execution_count": 21
        }
      ]
    },
    {
      "cell_type": "code",
      "metadata": {
        "colab": {
          "base_uri": "https://localhost:8080/",
          "height": 48
        },
        "id": "e9d6f212",
        "outputId": "22efcc50-69f7-49f1-f765-7fe446ad6b52"
      },
      "source": [
        "df_carrossel[df_carrossel.isna().any(axis=1)]"
      ],
      "id": "e9d6f212",
      "execution_count": 22,
      "outputs": [
        {
          "output_type": "execute_result",
          "data": {
            "text/html": [
              "<div>\n",
              "<style scoped>\n",
              "    .dataframe tbody tr th:only-of-type {\n",
              "        vertical-align: middle;\n",
              "    }\n",
              "\n",
              "    .dataframe tbody tr th {\n",
              "        vertical-align: top;\n",
              "    }\n",
              "\n",
              "    .dataframe thead th {\n",
              "        text-align: right;\n",
              "    }\n",
              "</style>\n",
              "<table border=\"1\" class=\"dataframe\">\n",
              "  <thead>\n",
              "    <tr style=\"text-align: right;\">\n",
              "      <th></th>\n",
              "      <th>Consumidor</th>\n",
              "      <th>NBO 1</th>\n",
              "      <th>NBO 2</th>\n",
              "      <th>NBO 3</th>\n",
              "      <th>NBO 4</th>\n",
              "      <th>NBO 5</th>\n",
              "      <th>Score NBO 1</th>\n",
              "      <th>Score NBO 2</th>\n",
              "      <th>Score NBO 3</th>\n",
              "      <th>Score NBO 4</th>\n",
              "      <th>Score NBO 5</th>\n",
              "    </tr>\n",
              "  </thead>\n",
              "  <tbody>\n",
              "  </tbody>\n",
              "</table>\n",
              "</div>"
            ],
            "text/plain": [
              "Empty DataFrame\n",
              "Columns: [Consumidor, NBO 1, NBO 2, NBO 3, NBO 4, NBO 5, Score NBO 1, Score NBO 2, Score NBO 3, Score NBO 4, Score NBO 5]\n",
              "Index: []"
            ]
          },
          "metadata": {},
          "execution_count": 22
        }
      ]
    },
    {
      "cell_type": "code",
      "metadata": {
        "colab": {
          "base_uri": "https://localhost:8080/",
          "height": 48
        },
        "id": "e84549c6",
        "outputId": "00d764af-cf57-4e72-8ab3-bc181a260bc1"
      },
      "source": [
        "#Valores inconsistentes\n",
        "df_hist[df_hist['Quantidade Acc 12M'] < df_hist['Quantidade Acc 6M']]"
      ],
      "id": "e84549c6",
      "execution_count": 23,
      "outputs": [
        {
          "output_type": "execute_result",
          "data": {
            "text/html": [
              "<div>\n",
              "<style scoped>\n",
              "    .dataframe tbody tr th:only-of-type {\n",
              "        vertical-align: middle;\n",
              "    }\n",
              "\n",
              "    .dataframe tbody tr th {\n",
              "        vertical-align: top;\n",
              "    }\n",
              "\n",
              "    .dataframe thead th {\n",
              "        text-align: right;\n",
              "    }\n",
              "</style>\n",
              "<table border=\"1\" class=\"dataframe\">\n",
              "  <thead>\n",
              "    <tr style=\"text-align: right;\">\n",
              "      <th></th>\n",
              "      <th>Consumidor</th>\n",
              "      <th>Produto</th>\n",
              "      <th>Quantidade Acc 12M</th>\n",
              "      <th>Quantidade Acc 6M</th>\n",
              "    </tr>\n",
              "  </thead>\n",
              "  <tbody>\n",
              "  </tbody>\n",
              "</table>\n",
              "</div>"
            ],
            "text/plain": [
              "Empty DataFrame\n",
              "Columns: [Consumidor, Produto, Quantidade Acc 12M, Quantidade Acc 6M]\n",
              "Index: []"
            ]
          },
          "metadata": {},
          "execution_count": 23
        }
      ]
    },
    {
      "cell_type": "markdown",
      "metadata": {
        "id": "37b1b218"
      },
      "source": [
        "## Análise Exploratória"
      ],
      "id": "37b1b218"
    },
    {
      "cell_type": "code",
      "metadata": {
        "colab": {
          "base_uri": "https://localhost:8080/",
          "height": 294
        },
        "id": "92356c9b",
        "outputId": "107ff00b-cd14-4a1f-b394-6c3c314ae9f0"
      },
      "source": [
        "#Analise Inicial - Histórico de Compras\n",
        "df_hist.describe()"
      ],
      "id": "92356c9b",
      "execution_count": 24,
      "outputs": [
        {
          "output_type": "execute_result",
          "data": {
            "text/html": [
              "<div>\n",
              "<style scoped>\n",
              "    .dataframe tbody tr th:only-of-type {\n",
              "        vertical-align: middle;\n",
              "    }\n",
              "\n",
              "    .dataframe tbody tr th {\n",
              "        vertical-align: top;\n",
              "    }\n",
              "\n",
              "    .dataframe thead th {\n",
              "        text-align: right;\n",
              "    }\n",
              "</style>\n",
              "<table border=\"1\" class=\"dataframe\">\n",
              "  <thead>\n",
              "    <tr style=\"text-align: right;\">\n",
              "      <th></th>\n",
              "      <th>Consumidor</th>\n",
              "      <th>Produto</th>\n",
              "      <th>Quantidade Acc 12M</th>\n",
              "      <th>Quantidade Acc 6M</th>\n",
              "    </tr>\n",
              "  </thead>\n",
              "  <tbody>\n",
              "    <tr>\n",
              "      <th>count</th>\n",
              "      <td>1048488.000</td>\n",
              "      <td>1048488.000</td>\n",
              "      <td>1048488.000</td>\n",
              "      <td>1048488.000</td>\n",
              "    </tr>\n",
              "    <tr>\n",
              "      <th>mean</th>\n",
              "      <td>9362.000</td>\n",
              "      <td>40.493</td>\n",
              "      <td>2.500</td>\n",
              "      <td>0.625</td>\n",
              "    </tr>\n",
              "    <tr>\n",
              "      <th>std</th>\n",
              "      <td>5404.867</td>\n",
              "      <td>23.082</td>\n",
              "      <td>1.708</td>\n",
              "      <td>1.099</td>\n",
              "    </tr>\n",
              "    <tr>\n",
              "      <th>min</th>\n",
              "      <td>1.000</td>\n",
              "      <td>1.000</td>\n",
              "      <td>0.000</td>\n",
              "      <td>0.000</td>\n",
              "    </tr>\n",
              "    <tr>\n",
              "      <th>25%</th>\n",
              "      <td>4681.000</td>\n",
              "      <td>21.000</td>\n",
              "      <td>1.000</td>\n",
              "      <td>0.000</td>\n",
              "    </tr>\n",
              "    <tr>\n",
              "      <th>50%</th>\n",
              "      <td>9362.000</td>\n",
              "      <td>41.000</td>\n",
              "      <td>2.000</td>\n",
              "      <td>0.000</td>\n",
              "    </tr>\n",
              "    <tr>\n",
              "      <th>75%</th>\n",
              "      <td>14043.000</td>\n",
              "      <td>60.000</td>\n",
              "      <td>4.000</td>\n",
              "      <td>1.000</td>\n",
              "    </tr>\n",
              "    <tr>\n",
              "      <th>max</th>\n",
              "      <td>18723.000</td>\n",
              "      <td>80.000</td>\n",
              "      <td>5.000</td>\n",
              "      <td>5.000</td>\n",
              "    </tr>\n",
              "  </tbody>\n",
              "</table>\n",
              "</div>"
            ],
            "text/plain": [
              "       Consumidor     Produto  Quantidade Acc 12M  Quantidade Acc 6M\n",
              "count 1048488.000 1048488.000         1048488.000        1048488.000\n",
              "mean     9362.000      40.493               2.500              0.625\n",
              "std      5404.867      23.082               1.708              1.099\n",
              "min         1.000       1.000               0.000              0.000\n",
              "25%      4681.000      21.000               1.000              0.000\n",
              "50%      9362.000      41.000               2.000              0.000\n",
              "75%     14043.000      60.000               4.000              1.000\n",
              "max     18723.000      80.000               5.000              5.000"
            ]
          },
          "metadata": {},
          "execution_count": 24
        }
      ]
    },
    {
      "cell_type": "code",
      "metadata": {
        "colab": {
          "base_uri": "https://localhost:8080/",
          "height": 202
        },
        "id": "1935d4c8",
        "outputId": "904d7284-f80c-4959-cea7-7102bf1ecab6"
      },
      "source": [
        "df_hist.sample(n=5)"
      ],
      "id": "1935d4c8",
      "execution_count": 25,
      "outputs": [
        {
          "output_type": "execute_result",
          "data": {
            "text/html": [
              "<div>\n",
              "<style scoped>\n",
              "    .dataframe tbody tr th:only-of-type {\n",
              "        vertical-align: middle;\n",
              "    }\n",
              "\n",
              "    .dataframe tbody tr th {\n",
              "        vertical-align: top;\n",
              "    }\n",
              "\n",
              "    .dataframe thead th {\n",
              "        text-align: right;\n",
              "    }\n",
              "</style>\n",
              "<table border=\"1\" class=\"dataframe\">\n",
              "  <thead>\n",
              "    <tr style=\"text-align: right;\">\n",
              "      <th></th>\n",
              "      <th>Consumidor</th>\n",
              "      <th>Produto</th>\n",
              "      <th>Quantidade Acc 12M</th>\n",
              "      <th>Quantidade Acc 6M</th>\n",
              "    </tr>\n",
              "  </thead>\n",
              "  <tbody>\n",
              "    <tr>\n",
              "      <th>637832</th>\n",
              "      <td>11390</td>\n",
              "      <td>16</td>\n",
              "      <td>0</td>\n",
              "      <td>0</td>\n",
              "    </tr>\n",
              "    <tr>\n",
              "      <th>705070</th>\n",
              "      <td>12591</td>\n",
              "      <td>8</td>\n",
              "      <td>3</td>\n",
              "      <td>0</td>\n",
              "    </tr>\n",
              "    <tr>\n",
              "      <th>314816</th>\n",
              "      <td>5622</td>\n",
              "      <td>69</td>\n",
              "      <td>4</td>\n",
              "      <td>0</td>\n",
              "    </tr>\n",
              "    <tr>\n",
              "      <th>287177</th>\n",
              "      <td>5129</td>\n",
              "      <td>11</td>\n",
              "      <td>4</td>\n",
              "      <td>0</td>\n",
              "    </tr>\n",
              "    <tr>\n",
              "      <th>608256</th>\n",
              "      <td>10862</td>\n",
              "      <td>32</td>\n",
              "      <td>0</td>\n",
              "      <td>0</td>\n",
              "    </tr>\n",
              "  </tbody>\n",
              "</table>\n",
              "</div>"
            ],
            "text/plain": [
              "        Consumidor  Produto  Quantidade Acc 12M  Quantidade Acc 6M\n",
              "637832       11390       16                   0                  0\n",
              "705070       12591        8                   3                  0\n",
              "314816        5622       69                   4                  0\n",
              "287177        5129       11                   4                  0\n",
              "608256       10862       32                   0                  0"
            ]
          },
          "metadata": {},
          "execution_count": 25
        }
      ]
    },
    {
      "cell_type": "code",
      "metadata": {
        "colab": {
          "base_uri": "https://localhost:8080/",
          "height": 294
        },
        "id": "6b92d4ed",
        "outputId": "dd8c3645-15ad-494d-9ce7-ff5a33fa1979"
      },
      "source": [
        "#Analise Inicial - Histórico de Recomendações\n",
        "df_carrossel.describe()"
      ],
      "id": "6b92d4ed",
      "execution_count": 26,
      "outputs": [
        {
          "output_type": "execute_result",
          "data": {
            "text/html": [
              "<div>\n",
              "<style scoped>\n",
              "    .dataframe tbody tr th:only-of-type {\n",
              "        vertical-align: middle;\n",
              "    }\n",
              "\n",
              "    .dataframe tbody tr th {\n",
              "        vertical-align: top;\n",
              "    }\n",
              "\n",
              "    .dataframe thead th {\n",
              "        text-align: right;\n",
              "    }\n",
              "</style>\n",
              "<table border=\"1\" class=\"dataframe\">\n",
              "  <thead>\n",
              "    <tr style=\"text-align: right;\">\n",
              "      <th></th>\n",
              "      <th>Consumidor</th>\n",
              "      <th>NBO 1</th>\n",
              "      <th>NBO 2</th>\n",
              "      <th>NBO 3</th>\n",
              "      <th>NBO 4</th>\n",
              "      <th>NBO 5</th>\n",
              "      <th>Score NBO 1</th>\n",
              "      <th>Score NBO 2</th>\n",
              "      <th>Score NBO 3</th>\n",
              "      <th>Score NBO 4</th>\n",
              "      <th>Score NBO 5</th>\n",
              "    </tr>\n",
              "  </thead>\n",
              "  <tbody>\n",
              "    <tr>\n",
              "      <th>count</th>\n",
              "      <td>18723.000</td>\n",
              "      <td>18723.000</td>\n",
              "      <td>18723.000</td>\n",
              "      <td>18723.000</td>\n",
              "      <td>18723.000</td>\n",
              "      <td>18723.000</td>\n",
              "      <td>18723.000</td>\n",
              "      <td>18723.000</td>\n",
              "      <td>18723.000</td>\n",
              "      <td>18723.000</td>\n",
              "      <td>18723.000</td>\n",
              "    </tr>\n",
              "    <tr>\n",
              "      <th>mean</th>\n",
              "      <td>9362.000</td>\n",
              "      <td>10.574</td>\n",
              "      <td>27.017</td>\n",
              "      <td>42.057</td>\n",
              "      <td>58.506</td>\n",
              "      <td>73.476</td>\n",
              "      <td>0.744</td>\n",
              "      <td>0.744</td>\n",
              "      <td>0.745</td>\n",
              "      <td>0.746</td>\n",
              "      <td>0.745</td>\n",
              "    </tr>\n",
              "    <tr>\n",
              "      <th>std</th>\n",
              "      <td>5405.009</td>\n",
              "      <td>5.778</td>\n",
              "      <td>3.741</td>\n",
              "      <td>4.918</td>\n",
              "      <td>4.625</td>\n",
              "      <td>4.025</td>\n",
              "      <td>0.139</td>\n",
              "      <td>0.139</td>\n",
              "      <td>0.138</td>\n",
              "      <td>0.138</td>\n",
              "      <td>0.139</td>\n",
              "    </tr>\n",
              "    <tr>\n",
              "      <th>min</th>\n",
              "      <td>1.000</td>\n",
              "      <td>1.000</td>\n",
              "      <td>21.000</td>\n",
              "      <td>34.000</td>\n",
              "      <td>51.000</td>\n",
              "      <td>67.000</td>\n",
              "      <td>0.510</td>\n",
              "      <td>0.510</td>\n",
              "      <td>0.510</td>\n",
              "      <td>0.510</td>\n",
              "      <td>0.510</td>\n",
              "    </tr>\n",
              "    <tr>\n",
              "      <th>25%</th>\n",
              "      <td>4681.500</td>\n",
              "      <td>6.000</td>\n",
              "      <td>24.000</td>\n",
              "      <td>38.000</td>\n",
              "      <td>55.000</td>\n",
              "      <td>70.000</td>\n",
              "      <td>0.620</td>\n",
              "      <td>0.620</td>\n",
              "      <td>0.630</td>\n",
              "      <td>0.630</td>\n",
              "      <td>0.620</td>\n",
              "    </tr>\n",
              "    <tr>\n",
              "      <th>50%</th>\n",
              "      <td>9362.000</td>\n",
              "      <td>11.000</td>\n",
              "      <td>27.000</td>\n",
              "      <td>42.000</td>\n",
              "      <td>58.000</td>\n",
              "      <td>73.000</td>\n",
              "      <td>0.740</td>\n",
              "      <td>0.740</td>\n",
              "      <td>0.750</td>\n",
              "      <td>0.750</td>\n",
              "      <td>0.740</td>\n",
              "    </tr>\n",
              "    <tr>\n",
              "      <th>75%</th>\n",
              "      <td>14042.500</td>\n",
              "      <td>16.000</td>\n",
              "      <td>30.000</td>\n",
              "      <td>46.000</td>\n",
              "      <td>63.000</td>\n",
              "      <td>77.000</td>\n",
              "      <td>0.870</td>\n",
              "      <td>0.870</td>\n",
              "      <td>0.860</td>\n",
              "      <td>0.870</td>\n",
              "      <td>0.870</td>\n",
              "    </tr>\n",
              "    <tr>\n",
              "      <th>max</th>\n",
              "      <td>18723.000</td>\n",
              "      <td>20.000</td>\n",
              "      <td>33.000</td>\n",
              "      <td>50.000</td>\n",
              "      <td>66.000</td>\n",
              "      <td>80.000</td>\n",
              "      <td>0.980</td>\n",
              "      <td>0.980</td>\n",
              "      <td>0.980</td>\n",
              "      <td>0.980</td>\n",
              "      <td>0.980</td>\n",
              "    </tr>\n",
              "  </tbody>\n",
              "</table>\n",
              "</div>"
            ],
            "text/plain": [
              "       Consumidor     NBO 1     NBO 2  ...  Score NBO 3  Score NBO 4  Score NBO 5\n",
              "count   18723.000 18723.000 18723.000  ...    18723.000    18723.000    18723.000\n",
              "mean     9362.000    10.574    27.017  ...        0.745        0.746        0.745\n",
              "std      5405.009     5.778     3.741  ...        0.138        0.138        0.139\n",
              "min         1.000     1.000    21.000  ...        0.510        0.510        0.510\n",
              "25%      4681.500     6.000    24.000  ...        0.630        0.630        0.620\n",
              "50%      9362.000    11.000    27.000  ...        0.750        0.750        0.740\n",
              "75%     14042.500    16.000    30.000  ...        0.860        0.870        0.870\n",
              "max     18723.000    20.000    33.000  ...        0.980        0.980        0.980\n",
              "\n",
              "[8 rows x 11 columns]"
            ]
          },
          "metadata": {},
          "execution_count": 26
        }
      ]
    },
    {
      "cell_type": "code",
      "metadata": {
        "colab": {
          "base_uri": "https://localhost:8080/",
          "height": 202
        },
        "id": "cdf9efd5",
        "outputId": "e7bc7b40-55ef-4169-b99d-63b92c39fa9d"
      },
      "source": [
        "df_carrossel.sample(n=5)"
      ],
      "id": "cdf9efd5",
      "execution_count": 27,
      "outputs": [
        {
          "output_type": "execute_result",
          "data": {
            "text/html": [
              "<div>\n",
              "<style scoped>\n",
              "    .dataframe tbody tr th:only-of-type {\n",
              "        vertical-align: middle;\n",
              "    }\n",
              "\n",
              "    .dataframe tbody tr th {\n",
              "        vertical-align: top;\n",
              "    }\n",
              "\n",
              "    .dataframe thead th {\n",
              "        text-align: right;\n",
              "    }\n",
              "</style>\n",
              "<table border=\"1\" class=\"dataframe\">\n",
              "  <thead>\n",
              "    <tr style=\"text-align: right;\">\n",
              "      <th></th>\n",
              "      <th>Consumidor</th>\n",
              "      <th>NBO 1</th>\n",
              "      <th>NBO 2</th>\n",
              "      <th>NBO 3</th>\n",
              "      <th>NBO 4</th>\n",
              "      <th>NBO 5</th>\n",
              "      <th>Score NBO 1</th>\n",
              "      <th>Score NBO 2</th>\n",
              "      <th>Score NBO 3</th>\n",
              "      <th>Score NBO 4</th>\n",
              "      <th>Score NBO 5</th>\n",
              "    </tr>\n",
              "  </thead>\n",
              "  <tbody>\n",
              "    <tr>\n",
              "      <th>13848</th>\n",
              "      <td>13849</td>\n",
              "      <td>11</td>\n",
              "      <td>29</td>\n",
              "      <td>45</td>\n",
              "      <td>63</td>\n",
              "      <td>68</td>\n",
              "      <td>0.840</td>\n",
              "      <td>0.890</td>\n",
              "      <td>0.830</td>\n",
              "      <td>0.850</td>\n",
              "      <td>0.570</td>\n",
              "    </tr>\n",
              "    <tr>\n",
              "      <th>9396</th>\n",
              "      <td>9397</td>\n",
              "      <td>6</td>\n",
              "      <td>32</td>\n",
              "      <td>34</td>\n",
              "      <td>53</td>\n",
              "      <td>80</td>\n",
              "      <td>0.550</td>\n",
              "      <td>0.800</td>\n",
              "      <td>0.560</td>\n",
              "      <td>0.970</td>\n",
              "      <td>0.510</td>\n",
              "    </tr>\n",
              "    <tr>\n",
              "      <th>14820</th>\n",
              "      <td>14821</td>\n",
              "      <td>13</td>\n",
              "      <td>28</td>\n",
              "      <td>45</td>\n",
              "      <td>53</td>\n",
              "      <td>73</td>\n",
              "      <td>0.850</td>\n",
              "      <td>0.670</td>\n",
              "      <td>0.570</td>\n",
              "      <td>0.930</td>\n",
              "      <td>0.680</td>\n",
              "    </tr>\n",
              "    <tr>\n",
              "      <th>8431</th>\n",
              "      <td>8432</td>\n",
              "      <td>14</td>\n",
              "      <td>25</td>\n",
              "      <td>45</td>\n",
              "      <td>52</td>\n",
              "      <td>71</td>\n",
              "      <td>0.540</td>\n",
              "      <td>0.940</td>\n",
              "      <td>0.720</td>\n",
              "      <td>0.670</td>\n",
              "      <td>0.910</td>\n",
              "    </tr>\n",
              "    <tr>\n",
              "      <th>8488</th>\n",
              "      <td>8489</td>\n",
              "      <td>9</td>\n",
              "      <td>31</td>\n",
              "      <td>38</td>\n",
              "      <td>66</td>\n",
              "      <td>71</td>\n",
              "      <td>0.840</td>\n",
              "      <td>0.950</td>\n",
              "      <td>0.950</td>\n",
              "      <td>0.720</td>\n",
              "      <td>0.570</td>\n",
              "    </tr>\n",
              "  </tbody>\n",
              "</table>\n",
              "</div>"
            ],
            "text/plain": [
              "       Consumidor  NBO 1  NBO 2  ...  Score NBO 3  Score NBO 4  Score NBO 5\n",
              "13848       13849     11     29  ...        0.830        0.850        0.570\n",
              "9396         9397      6     32  ...        0.560        0.970        0.510\n",
              "14820       14821     13     28  ...        0.570        0.930        0.680\n",
              "8431         8432     14     25  ...        0.720        0.670        0.910\n",
              "8488         8489      9     31  ...        0.950        0.720        0.570\n",
              "\n",
              "[5 rows x 11 columns]"
            ]
          },
          "metadata": {},
          "execution_count": 27
        }
      ]
    },
    {
      "cell_type": "code",
      "metadata": {
        "colab": {
          "base_uri": "https://localhost:8080/"
        },
        "id": "ecc6f436",
        "outputId": "872c676d-9df6-4c88-f641-9515d173faa8"
      },
      "source": [
        "#TOP 5 Produtos vendidos na base histórica\n",
        "df_hist_top5 = df_hist['Produto'].value_counts().sort_values(ascending=False).head(5)\n",
        "df_hist_top5"
      ],
      "id": "ecc6f436",
      "execution_count": 28,
      "outputs": [
        {
          "output_type": "execute_result",
          "data": {
            "text/plain": [
              "56    13444\n",
              "19    13387\n",
              "3     13360\n",
              "14    13291\n",
              "76    13284\n",
              "Name: Produto, dtype: int64"
            ]
          },
          "metadata": {},
          "execution_count": 28
        }
      ]
    },
    {
      "cell_type": "code",
      "metadata": {
        "colab": {
          "base_uri": "https://localhost:8080/"
        },
        "id": "ae3b0f5f",
        "outputId": "f93e7192-5a5f-4482-b386-b3754cce98cc"
      },
      "source": [
        "#LOWEST 5 Produtos vendidos na base histórica\n",
        "df_hist_lowest5 = df_hist['Produto'].value_counts().sort_values(ascending=True).head(5)\n",
        "df_hist_lowest5"
      ],
      "id": "ae3b0f5f",
      "execution_count": 29,
      "outputs": [
        {
          "output_type": "execute_result",
          "data": {
            "text/plain": [
              "13    12845\n",
              "47    12847\n",
              "12    12873\n",
              "26    12885\n",
              "30    12907\n",
              "Name: Produto, dtype: int64"
            ]
          },
          "metadata": {},
          "execution_count": 29
        }
      ]
    },
    {
      "cell_type": "code",
      "metadata": {
        "colab": {
          "base_uri": "https://localhost:8080/"
        },
        "id": "a65357ee",
        "outputId": "d41602ec-58ed-479a-e6b5-bf35bb5367f6"
      },
      "source": [
        "#TOP 5 Produtos Mais Sugeridos no carrossel\n",
        "a = df_carossel['NBO 1']\n",
        "b = df_carossel['NBO 2']\n",
        "c = df_carossel['NBO 3']\n",
        "d = df_carossel['NBO 4']\n",
        "e = df_carossel['NBO 5']\n",
        "\n",
        "df_carrossel_top5 = pd.concat([a, b, c, d, e])\n",
        "df_carrossel_top5 = df_carrossel_top5.value_counts().sort_values(ascending=False).head(5)\n",
        "df_carrossel_top5"
      ],
      "id": "a65357ee",
      "execution_count": 30,
      "outputs": [
        {
          "output_type": "execute_result",
          "data": {
            "text/plain": [
              "31    1476\n",
              "27    1471\n",
              "32    1463\n",
              "22    1463\n",
              "24    1460\n",
              "dtype: int64"
            ]
          },
          "metadata": {},
          "execution_count": 30
        }
      ]
    },
    {
      "cell_type": "code",
      "metadata": {
        "colab": {
          "base_uri": "https://localhost:8080/"
        },
        "id": "9e5c43ac",
        "outputId": "b4740776-82a2-42bc-d46c-afc238f9eace"
      },
      "source": [
        "#LOWEST 5 Produtos Menos Sugeridos no carrossel\n",
        "df_carrossel_lowest5 = pd.concat([a, b, c, d, e])\n",
        "df_carrossel_lowest5 = df_carrossel_lowest5.value_counts().sort_values(ascending=True).head(5)\n",
        "df_carrossel_lowest5"
      ],
      "id": "9e5c43ac",
      "execution_count": 31,
      "outputs": [
        {
          "output_type": "execute_result",
          "data": {
            "text/plain": [
              "14    875\n",
              "3     891\n",
              "8     899\n",
              "7     904\n",
              "2     907\n",
              "dtype: int64"
            ]
          },
          "metadata": {},
          "execution_count": 31
        }
      ]
    },
    {
      "cell_type": "code",
      "metadata": {
        "colab": {
          "base_uri": "https://localhost:8080/"
        },
        "id": "327745fa",
        "outputId": "41162619-3552-4a2c-d46e-45b072540abe"
      },
      "source": [
        "#TOP 5 Consumidores (com base no numero de compras na base histórica) 6M\n",
        "df_hist_top5con6M = df_hist[df_hist['Quantidade Acc 6M'] > 0]\n",
        "df_hist_top5con6M = df_hist_top5con6M['Consumidor'].value_counts().sort_values(ascending=False).head(5)\n",
        "df_hist_top5con6M\n",
        "\n",
        "# Quantidade Acc 12M \tQuantidade Acc 6M"
      ],
      "id": "327745fa",
      "execution_count": 32,
      "outputs": [
        {
          "output_type": "execute_result",
          "data": {
            "text/plain": [
              "1008     33\n",
              "4265     31\n",
              "11142    31\n",
              "12681    31\n",
              "11653    31\n",
              "Name: Consumidor, dtype: int64"
            ]
          },
          "metadata": {},
          "execution_count": 32
        }
      ]
    },
    {
      "cell_type": "code",
      "metadata": {
        "colab": {
          "base_uri": "https://localhost:8080/"
        },
        "id": "6082eb9d",
        "outputId": "716ec2f8-e60f-4f10-d5ec-566337b6cf66"
      },
      "source": [
        "#TOP 5 Consumidores (com base no numero de compras na base histórica) 12M\n",
        "df_hist_top5con12M = df_hist[df_hist['Quantidade Acc 12M'] > 0]\n",
        "df_hist_top5con12M = df_hist_top5con12M['Consumidor'].value_counts().sort_values(ascending=False).head(5)\n",
        "df_hist_top5con12M"
      ],
      "id": "6082eb9d",
      "execution_count": 33,
      "outputs": [
        {
          "output_type": "execute_result",
          "data": {
            "text/plain": [
              "9406     56\n",
              "4983     55\n",
              "15623    55\n",
              "13090    55\n",
              "5686     55\n",
              "Name: Consumidor, dtype: int64"
            ]
          },
          "metadata": {},
          "execution_count": 33
        }
      ]
    },
    {
      "cell_type": "code",
      "metadata": {
        "colab": {
          "base_uri": "https://localhost:8080/",
          "height": 202
        },
        "id": "245e1cad",
        "outputId": "b52efb16-057d-488f-a4e8-9a1d2ce60e0e"
      },
      "source": [
        "#Trazer o NBO do TOP 5 Consumidores 6M\n",
        "df_hist_top5con6M = pd.merge(df_hist_top5con6M, df_carrossel, how='inner', on=[\"Consumidor\", \"Consumidor\"])\n",
        "df_hist_top5con6M"
      ],
      "id": "245e1cad",
      "execution_count": 34,
      "outputs": [
        {
          "output_type": "execute_result",
          "data": {
            "text/html": [
              "<div>\n",
              "<style scoped>\n",
              "    .dataframe tbody tr th:only-of-type {\n",
              "        vertical-align: middle;\n",
              "    }\n",
              "\n",
              "    .dataframe tbody tr th {\n",
              "        vertical-align: top;\n",
              "    }\n",
              "\n",
              "    .dataframe thead th {\n",
              "        text-align: right;\n",
              "    }\n",
              "</style>\n",
              "<table border=\"1\" class=\"dataframe\">\n",
              "  <thead>\n",
              "    <tr style=\"text-align: right;\">\n",
              "      <th></th>\n",
              "      <th>Consumidor</th>\n",
              "      <th>NBO 1</th>\n",
              "      <th>NBO 2</th>\n",
              "      <th>NBO 3</th>\n",
              "      <th>NBO 4</th>\n",
              "      <th>NBO 5</th>\n",
              "      <th>Score NBO 1</th>\n",
              "      <th>Score NBO 2</th>\n",
              "      <th>Score NBO 3</th>\n",
              "      <th>Score NBO 4</th>\n",
              "      <th>Score NBO 5</th>\n",
              "    </tr>\n",
              "  </thead>\n",
              "  <tbody>\n",
              "    <tr>\n",
              "      <th>0</th>\n",
              "      <td>33</td>\n",
              "      <td>10</td>\n",
              "      <td>22</td>\n",
              "      <td>48</td>\n",
              "      <td>55</td>\n",
              "      <td>75</td>\n",
              "      <td>0.960</td>\n",
              "      <td>0.670</td>\n",
              "      <td>0.840</td>\n",
              "      <td>0.880</td>\n",
              "      <td>0.560</td>\n",
              "    </tr>\n",
              "    <tr>\n",
              "      <th>1</th>\n",
              "      <td>31</td>\n",
              "      <td>11</td>\n",
              "      <td>23</td>\n",
              "      <td>38</td>\n",
              "      <td>63</td>\n",
              "      <td>75</td>\n",
              "      <td>0.510</td>\n",
              "      <td>0.510</td>\n",
              "      <td>0.880</td>\n",
              "      <td>0.750</td>\n",
              "      <td>0.640</td>\n",
              "    </tr>\n",
              "    <tr>\n",
              "      <th>2</th>\n",
              "      <td>31</td>\n",
              "      <td>11</td>\n",
              "      <td>23</td>\n",
              "      <td>38</td>\n",
              "      <td>63</td>\n",
              "      <td>75</td>\n",
              "      <td>0.510</td>\n",
              "      <td>0.510</td>\n",
              "      <td>0.880</td>\n",
              "      <td>0.750</td>\n",
              "      <td>0.640</td>\n",
              "    </tr>\n",
              "    <tr>\n",
              "      <th>3</th>\n",
              "      <td>31</td>\n",
              "      <td>11</td>\n",
              "      <td>23</td>\n",
              "      <td>38</td>\n",
              "      <td>63</td>\n",
              "      <td>75</td>\n",
              "      <td>0.510</td>\n",
              "      <td>0.510</td>\n",
              "      <td>0.880</td>\n",
              "      <td>0.750</td>\n",
              "      <td>0.640</td>\n",
              "    </tr>\n",
              "    <tr>\n",
              "      <th>4</th>\n",
              "      <td>31</td>\n",
              "      <td>11</td>\n",
              "      <td>23</td>\n",
              "      <td>38</td>\n",
              "      <td>63</td>\n",
              "      <td>75</td>\n",
              "      <td>0.510</td>\n",
              "      <td>0.510</td>\n",
              "      <td>0.880</td>\n",
              "      <td>0.750</td>\n",
              "      <td>0.640</td>\n",
              "    </tr>\n",
              "  </tbody>\n",
              "</table>\n",
              "</div>"
            ],
            "text/plain": [
              "   Consumidor  NBO 1  NBO 2  ...  Score NBO 3  Score NBO 4  Score NBO 5\n",
              "0          33     10     22  ...        0.840        0.880        0.560\n",
              "1          31     11     23  ...        0.880        0.750        0.640\n",
              "2          31     11     23  ...        0.880        0.750        0.640\n",
              "3          31     11     23  ...        0.880        0.750        0.640\n",
              "4          31     11     23  ...        0.880        0.750        0.640\n",
              "\n",
              "[5 rows x 11 columns]"
            ]
          },
          "metadata": {},
          "execution_count": 34
        }
      ]
    },
    {
      "cell_type": "code",
      "metadata": {
        "colab": {
          "base_uri": "https://localhost:8080/",
          "height": 202
        },
        "id": "a2870fc5",
        "outputId": "e7466ff2-e9e7-45f5-9d0a-c718a4002f95"
      },
      "source": [
        "#Trazer o NBO do TOP 5 Consumidores 12M\n",
        "df_hist_top5con12M = pd.merge(df_hist_top5con12M, df_carrossel, how='inner', on=[\"Consumidor\", \"Consumidor\"])\n",
        "df_hist_top5con12M"
      ],
      "id": "a2870fc5",
      "execution_count": 35,
      "outputs": [
        {
          "output_type": "execute_result",
          "data": {
            "text/html": [
              "<div>\n",
              "<style scoped>\n",
              "    .dataframe tbody tr th:only-of-type {\n",
              "        vertical-align: middle;\n",
              "    }\n",
              "\n",
              "    .dataframe tbody tr th {\n",
              "        vertical-align: top;\n",
              "    }\n",
              "\n",
              "    .dataframe thead th {\n",
              "        text-align: right;\n",
              "    }\n",
              "</style>\n",
              "<table border=\"1\" class=\"dataframe\">\n",
              "  <thead>\n",
              "    <tr style=\"text-align: right;\">\n",
              "      <th></th>\n",
              "      <th>Consumidor</th>\n",
              "      <th>NBO 1</th>\n",
              "      <th>NBO 2</th>\n",
              "      <th>NBO 3</th>\n",
              "      <th>NBO 4</th>\n",
              "      <th>NBO 5</th>\n",
              "      <th>Score NBO 1</th>\n",
              "      <th>Score NBO 2</th>\n",
              "      <th>Score NBO 3</th>\n",
              "      <th>Score NBO 4</th>\n",
              "      <th>Score NBO 5</th>\n",
              "    </tr>\n",
              "  </thead>\n",
              "  <tbody>\n",
              "    <tr>\n",
              "      <th>0</th>\n",
              "      <td>56</td>\n",
              "      <td>9</td>\n",
              "      <td>31</td>\n",
              "      <td>45</td>\n",
              "      <td>54</td>\n",
              "      <td>77</td>\n",
              "      <td>0.530</td>\n",
              "      <td>0.650</td>\n",
              "      <td>0.870</td>\n",
              "      <td>0.530</td>\n",
              "      <td>0.930</td>\n",
              "    </tr>\n",
              "    <tr>\n",
              "      <th>1</th>\n",
              "      <td>55</td>\n",
              "      <td>4</td>\n",
              "      <td>28</td>\n",
              "      <td>34</td>\n",
              "      <td>55</td>\n",
              "      <td>74</td>\n",
              "      <td>0.540</td>\n",
              "      <td>0.630</td>\n",
              "      <td>0.900</td>\n",
              "      <td>0.950</td>\n",
              "      <td>0.540</td>\n",
              "    </tr>\n",
              "    <tr>\n",
              "      <th>2</th>\n",
              "      <td>55</td>\n",
              "      <td>4</td>\n",
              "      <td>28</td>\n",
              "      <td>34</td>\n",
              "      <td>55</td>\n",
              "      <td>74</td>\n",
              "      <td>0.540</td>\n",
              "      <td>0.630</td>\n",
              "      <td>0.900</td>\n",
              "      <td>0.950</td>\n",
              "      <td>0.540</td>\n",
              "    </tr>\n",
              "    <tr>\n",
              "      <th>3</th>\n",
              "      <td>55</td>\n",
              "      <td>4</td>\n",
              "      <td>28</td>\n",
              "      <td>34</td>\n",
              "      <td>55</td>\n",
              "      <td>74</td>\n",
              "      <td>0.540</td>\n",
              "      <td>0.630</td>\n",
              "      <td>0.900</td>\n",
              "      <td>0.950</td>\n",
              "      <td>0.540</td>\n",
              "    </tr>\n",
              "    <tr>\n",
              "      <th>4</th>\n",
              "      <td>55</td>\n",
              "      <td>4</td>\n",
              "      <td>28</td>\n",
              "      <td>34</td>\n",
              "      <td>55</td>\n",
              "      <td>74</td>\n",
              "      <td>0.540</td>\n",
              "      <td>0.630</td>\n",
              "      <td>0.900</td>\n",
              "      <td>0.950</td>\n",
              "      <td>0.540</td>\n",
              "    </tr>\n",
              "  </tbody>\n",
              "</table>\n",
              "</div>"
            ],
            "text/plain": [
              "   Consumidor  NBO 1  NBO 2  ...  Score NBO 3  Score NBO 4  Score NBO 5\n",
              "0          56      9     31  ...        0.870        0.530        0.930\n",
              "1          55      4     28  ...        0.900        0.950        0.540\n",
              "2          55      4     28  ...        0.900        0.950        0.540\n",
              "3          55      4     28  ...        0.900        0.950        0.540\n",
              "4          55      4     28  ...        0.900        0.950        0.540\n",
              "\n",
              "[5 rows x 11 columns]"
            ]
          },
          "metadata": {},
          "execution_count": 35
        }
      ]
    },
    {
      "cell_type": "markdown",
      "metadata": {
        "id": "92d3751e"
      },
      "source": [
        "# REMARK: Qual a lógica por traz da recomendação dos 5 produtos do carrossel?\n",
        "Cada NBO [1 ao 5] pode sugerir apenas um range de produtos como é demonstrado a seguir\n",
        "\n",
        "=> Isto é ruim pois caso o cliente tenha um historico de compras somente para produtos da faixa (67 ao 80), os outros NBOs ficariam mal utilizados"
      ],
      "id": "92d3751e"
    },
    {
      "cell_type": "code",
      "metadata": {
        "colab": {
          "base_uri": "https://localhost:8080/"
        },
        "id": "f01cc611",
        "outputId": "c9ef1654-3e6c-4227-911f-9326c4c3b243"
      },
      "source": [
        "df_carrossel['NBO 1'].describe()   # Produto 1  ao 20"
      ],
      "id": "f01cc611",
      "execution_count": 36,
      "outputs": [
        {
          "output_type": "execute_result",
          "data": {
            "text/plain": [
              "count   18723.000\n",
              "mean       10.574\n",
              "std         5.778\n",
              "min         1.000\n",
              "25%         6.000\n",
              "50%        11.000\n",
              "75%        16.000\n",
              "max        20.000\n",
              "Name: NBO 1, dtype: float64"
            ]
          },
          "metadata": {},
          "execution_count": 36
        }
      ]
    },
    {
      "cell_type": "code",
      "metadata": {
        "colab": {
          "base_uri": "https://localhost:8080/"
        },
        "id": "adf09567",
        "outputId": "f2741168-be1f-4666-fdc3-a123730c05ac"
      },
      "source": [
        "df_carrossel['NBO 2'].describe()    # Produto 21 ao 33"
      ],
      "id": "adf09567",
      "execution_count": 37,
      "outputs": [
        {
          "output_type": "execute_result",
          "data": {
            "text/plain": [
              "count   18723.000\n",
              "mean       27.017\n",
              "std         3.741\n",
              "min        21.000\n",
              "25%        24.000\n",
              "50%        27.000\n",
              "75%        30.000\n",
              "max        33.000\n",
              "Name: NBO 2, dtype: float64"
            ]
          },
          "metadata": {},
          "execution_count": 37
        }
      ]
    },
    {
      "cell_type": "code",
      "metadata": {
        "colab": {
          "base_uri": "https://localhost:8080/"
        },
        "id": "7e518c7f",
        "outputId": "98c72a5e-c995-468e-edf8-b99b4f6591bf"
      },
      "source": [
        "df_carrossel['NBO 3'].describe()    # Produto 34 ao 50"
      ],
      "id": "7e518c7f",
      "execution_count": 38,
      "outputs": [
        {
          "output_type": "execute_result",
          "data": {
            "text/plain": [
              "count   18723.000\n",
              "mean       42.057\n",
              "std         4.918\n",
              "min        34.000\n",
              "25%        38.000\n",
              "50%        42.000\n",
              "75%        46.000\n",
              "max        50.000\n",
              "Name: NBO 3, dtype: float64"
            ]
          },
          "metadata": {},
          "execution_count": 38
        }
      ]
    },
    {
      "cell_type": "code",
      "metadata": {
        "colab": {
          "base_uri": "https://localhost:8080/"
        },
        "id": "3f6b726b",
        "outputId": "b74b1dac-a529-4cd5-9302-1f9a3fb40330"
      },
      "source": [
        "df_carrossel['NBO 4'].describe()    # Produto 51 ao 66"
      ],
      "id": "3f6b726b",
      "execution_count": 39,
      "outputs": [
        {
          "output_type": "execute_result",
          "data": {
            "text/plain": [
              "count   18723.000\n",
              "mean       58.506\n",
              "std         4.625\n",
              "min        51.000\n",
              "25%        55.000\n",
              "50%        58.000\n",
              "75%        63.000\n",
              "max        66.000\n",
              "Name: NBO 4, dtype: float64"
            ]
          },
          "metadata": {},
          "execution_count": 39
        }
      ]
    },
    {
      "cell_type": "code",
      "metadata": {
        "colab": {
          "base_uri": "https://localhost:8080/"
        },
        "id": "1d6e339c",
        "outputId": "2322de8a-e32a-4982-ebd1-9d917bb359df"
      },
      "source": [
        "df_carrossel['NBO 5'].describe()    # Produto 67 ao 80"
      ],
      "id": "1d6e339c",
      "execution_count": 40,
      "outputs": [
        {
          "output_type": "execute_result",
          "data": {
            "text/plain": [
              "count   18723.000\n",
              "mean       73.476\n",
              "std         4.025\n",
              "min        67.000\n",
              "25%        70.000\n",
              "50%        73.000\n",
              "75%        77.000\n",
              "max        80.000\n",
              "Name: NBO 5, dtype: float64"
            ]
          },
          "metadata": {},
          "execution_count": 40
        }
      ]
    },
    {
      "cell_type": "markdown",
      "metadata": {
        "id": "d800388a"
      },
      "source": [
        "# REMARK: Quantas variações de recomendações foram feitas?\n",
        "==> 18562 variações de um total de 18723 => 99.14 % de recomendações únicas"
      ],
      "id": "d800388a"
    },
    {
      "cell_type": "code",
      "metadata": {
        "colab": {
          "base_uri": "https://localhost:8080/"
        },
        "id": "6e9f9dee",
        "outputId": "e5d7090f-7bf6-4dda-9227-cff3bb77bf93"
      },
      "source": [
        "def left(s, amount):\n",
        "    return s[:amount]\n",
        "\n",
        "def right(s, amount):\n",
        "    return s[-amount:]\n",
        "\n",
        "def mid(s, offset, amount):\n",
        "    return s[offset:offset+amount]\n",
        "\n",
        "\n",
        "df_carrossel['ConjuntoID'] = 99*(100**5) + (df_carrossel['NBO 1']*(100**4)) + (df_carrossel['NBO 2']*(100**3)) + (df_carrossel['NBO 3']*(100**2)) + (df_carrossel['NBO 4']*(100**1)) + (df_carrossel['NBO 5']*(100**0))\n",
        "df_carrossel['ConjuntoID'].value_counts().sort_values(ascending=False)\n"
      ],
      "id": "6e9f9dee",
      "execution_count": 41,
      "outputs": [
        {
          "output_type": "execute_result",
          "data": {
            "text/plain": [
              "990425376570    3\n",
              "991624426067    2\n",
              "990722505178    2\n",
              "990721505274    2\n",
              "990124375374    2\n",
              "               ..\n",
              "990821436679    1\n",
              "990222505973    1\n",
              "992033506378    1\n",
              "991732445178    1\n",
              "990233435473    1\n",
              "Name: ConjuntoID, Length: 18562, dtype: int64"
            ]
          },
          "metadata": {},
          "execution_count": 41
        }
      ]
    },
    {
      "cell_type": "markdown",
      "metadata": {
        "id": "6LmorSM35M0S"
      },
      "source": [
        "#REMARK: Consumidores que nunca compraram?"
      ],
      "id": "6LmorSM35M0S"
    },
    {
      "cell_type": "code",
      "metadata": {
        "colab": {
          "base_uri": "https://localhost:8080/",
          "height": 48
        },
        "id": "6COsMbBr5Mfg",
        "outputId": "bd679a8b-415c-4bc2-c9e4-314c39e34b00"
      },
      "source": [
        "df_hist_nonbuyers = df_hist.groupby(['Consumidor'], as_index=False)['Quantidade Acc 12M'].sum()\n",
        "df_hist_nonbuyers.columns = ['Consumidor', 'Total Acc 12M']\n",
        "df_hist_nonbuyers[df_hist_nonbuyers['Total Acc 12M']==0 ]"
      ],
      "id": "6COsMbBr5Mfg",
      "execution_count": 70,
      "outputs": [
        {
          "output_type": "execute_result",
          "data": {
            "text/html": [
              "<div>\n",
              "<style scoped>\n",
              "    .dataframe tbody tr th:only-of-type {\n",
              "        vertical-align: middle;\n",
              "    }\n",
              "\n",
              "    .dataframe tbody tr th {\n",
              "        vertical-align: top;\n",
              "    }\n",
              "\n",
              "    .dataframe thead th {\n",
              "        text-align: right;\n",
              "    }\n",
              "</style>\n",
              "<table border=\"1\" class=\"dataframe\">\n",
              "  <thead>\n",
              "    <tr style=\"text-align: right;\">\n",
              "      <th></th>\n",
              "      <th>Consumidor</th>\n",
              "      <th>Total Acc 12M</th>\n",
              "    </tr>\n",
              "  </thead>\n",
              "  <tbody>\n",
              "  </tbody>\n",
              "</table>\n",
              "</div>"
            ],
            "text/plain": [
              "Empty DataFrame\n",
              "Columns: [Consumidor, Total Acc 12M]\n",
              "Index: []"
            ]
          },
          "metadata": {},
          "execution_count": 70
        }
      ]
    },
    {
      "cell_type": "markdown",
      "metadata": {
        "id": "4_y7Ku8T-nXv"
      },
      "source": [
        "#REMARK: Produtos que nunca foram vendidos?"
      ],
      "id": "4_y7Ku8T-nXv"
    },
    {
      "cell_type": "code",
      "metadata": {
        "colab": {
          "base_uri": "https://localhost:8080/",
          "height": 48
        },
        "id": "83UqF40o-rsQ",
        "outputId": "4e7604aa-eed0-4097-8f2f-fdf4ad2f4944"
      },
      "source": [
        "df_hist_neversold = df_hist.groupby(['Produto'], as_index=False)['Quantidade Acc 12M'].sum()\n",
        "df_hist_neversold.columns = ['Produto', 'Total Acc 12M']\n",
        "df_hist_neversold[df_hist_neversold['Total Acc 12M']==0 ]"
      ],
      "id": "83UqF40o-rsQ",
      "execution_count": 72,
      "outputs": [
        {
          "output_type": "execute_result",
          "data": {
            "text/html": [
              "<div>\n",
              "<style scoped>\n",
              "    .dataframe tbody tr th:only-of-type {\n",
              "        vertical-align: middle;\n",
              "    }\n",
              "\n",
              "    .dataframe tbody tr th {\n",
              "        vertical-align: top;\n",
              "    }\n",
              "\n",
              "    .dataframe thead th {\n",
              "        text-align: right;\n",
              "    }\n",
              "</style>\n",
              "<table border=\"1\" class=\"dataframe\">\n",
              "  <thead>\n",
              "    <tr style=\"text-align: right;\">\n",
              "      <th></th>\n",
              "      <th>Produto</th>\n",
              "      <th>Total Acc 12M</th>\n",
              "    </tr>\n",
              "  </thead>\n",
              "  <tbody>\n",
              "  </tbody>\n",
              "</table>\n",
              "</div>"
            ],
            "text/plain": [
              "Empty DataFrame\n",
              "Columns: [Produto, Total Acc 12M]\n",
              "Index: []"
            ]
          },
          "metadata": {},
          "execution_count": 72
        }
      ]
    }
  ]
}