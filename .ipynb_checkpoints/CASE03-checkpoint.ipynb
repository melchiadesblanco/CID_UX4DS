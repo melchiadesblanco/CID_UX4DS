{
 "cells": [
  {
   "cell_type": "markdown",
   "id": "eda93553",
   "metadata": {},
   "source": [
    "## Problemática\n",
    "#### Aula 2: Fazer as análises exploratórias básicas\n",
    "\n",
    "## Anotações do Professor\n",
    "- 12M faz sentido olhando para 6M?\n",
    "- Valores errados? Nulos? Zero?\n",
    "- Outliers\n"
   ]
  },
  {
   "cell_type": "code",
   "execution_count": null,
   "id": "4c91b535",
   "metadata": {},
   "outputs": [],
   "source": []
  },
  {
   "cell_type": "code",
   "execution_count": null,
   "id": "e3930695",
   "metadata": {},
   "outputs": [],
   "source": []
  }
 ],
 "metadata": {
  "kernelspec": {
   "display_name": "Python 3 (ipykernel)",
   "language": "python",
   "name": "python3"
  },
  "language_info": {
   "codemirror_mode": {
    "name": "ipython",
    "version": 3
   },
   "file_extension": ".py",
   "mimetype": "text/x-python",
   "name": "python",
   "nbconvert_exporter": "python",
   "pygments_lexer": "ipython3",
   "version": "3.8.11"
  }
 },
 "nbformat": 4,
 "nbformat_minor": 5
}
